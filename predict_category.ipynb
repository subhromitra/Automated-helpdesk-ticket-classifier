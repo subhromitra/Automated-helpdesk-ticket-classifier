{
 "cells": [
  {
   "cell_type": "markdown",
   "metadata": {},
   "source": [
    "<h1 style=\"font-size:30px;\"> Predicting category </h1>\n",
    "\n",
    "<h3> Given the text in ticket predict its category. Essentially its a 13 class classification problem. </h3>"
   ]
  },
  {
   "cell_type": "markdown",
   "metadata": {
    "colab_type": "text",
    "id": "v1XNPPyWavuw"
   },
   "source": [
    "<h2> 1. Data loading </h2>"
   ]
  },
  {
   "cell_type": "code",
   "execution_count": 0,
   "metadata": {
    "colab": {},
    "colab_type": "code",
    "id": "TL03jJu9xoYM"
   },
   "outputs": [],
   "source": [
    "import pandas as pd\n",
    "import numpy as np"
   ]
  },
  {
   "cell_type": "code",
   "execution_count": 6,
   "metadata": {
    "colab": {
     "base_uri": "https://localhost:8080/",
     "height": 195
    },
    "colab_type": "code",
    "id": "Ki_Ec7ClrUmc",
    "outputId": "961aaad7-f9fc-4a2b-8fd9-a7da18296f3d"
   },
   "outputs": [
    {
     "data": {
      "text/html": [
       "<div>\n",
       "<style scoped>\n",
       "    .dataframe tbody tr th:only-of-type {\n",
       "        vertical-align: middle;\n",
       "    }\n",
       "\n",
       "    .dataframe tbody tr th {\n",
       "        vertical-align: top;\n",
       "    }\n",
       "\n",
       "    .dataframe thead th {\n",
       "        text-align: right;\n",
       "    }\n",
       "</style>\n",
       "<table border=\"1\" class=\"dataframe\">\n",
       "  <thead>\n",
       "    <tr style=\"text-align: right;\">\n",
       "      <th></th>\n",
       "      <th>title</th>\n",
       "      <th>body</th>\n",
       "      <th>ticket_type</th>\n",
       "      <th>category</th>\n",
       "      <th>sub_category1</th>\n",
       "      <th>sub_category2</th>\n",
       "      <th>business_service</th>\n",
       "      <th>urgency</th>\n",
       "      <th>impact</th>\n",
       "    </tr>\n",
       "  </thead>\n",
       "  <tbody>\n",
       "    <tr>\n",
       "      <th>0</th>\n",
       "      <td>NaN</td>\n",
       "      <td>hi since recruiter lead permission approve req...</td>\n",
       "      <td>1</td>\n",
       "      <td>4</td>\n",
       "      <td>2</td>\n",
       "      <td>21</td>\n",
       "      <td>71</td>\n",
       "      <td>3</td>\n",
       "      <td>4</td>\n",
       "    </tr>\n",
       "    <tr>\n",
       "      <th>1</th>\n",
       "      <td>connection with icon</td>\n",
       "      <td>icon dear please setup icon per icon engineers...</td>\n",
       "      <td>1</td>\n",
       "      <td>6</td>\n",
       "      <td>22</td>\n",
       "      <td>7</td>\n",
       "      <td>26</td>\n",
       "      <td>3</td>\n",
       "      <td>4</td>\n",
       "    </tr>\n",
       "    <tr>\n",
       "      <th>2</th>\n",
       "      <td>work experience user</td>\n",
       "      <td>work experience user hi work experience studen...</td>\n",
       "      <td>1</td>\n",
       "      <td>5</td>\n",
       "      <td>13</td>\n",
       "      <td>7</td>\n",
       "      <td>32</td>\n",
       "      <td>3</td>\n",
       "      <td>4</td>\n",
       "    </tr>\n",
       "    <tr>\n",
       "      <th>3</th>\n",
       "      <td>requesting for meeting</td>\n",
       "      <td>requesting meeting hi please help follow equip...</td>\n",
       "      <td>1</td>\n",
       "      <td>5</td>\n",
       "      <td>13</td>\n",
       "      <td>7</td>\n",
       "      <td>32</td>\n",
       "      <td>3</td>\n",
       "      <td>4</td>\n",
       "    </tr>\n",
       "    <tr>\n",
       "      <th>4</th>\n",
       "      <td>reset passwords for external accounts</td>\n",
       "      <td>re expire days hi ask help update passwords co...</td>\n",
       "      <td>1</td>\n",
       "      <td>4</td>\n",
       "      <td>2</td>\n",
       "      <td>76</td>\n",
       "      <td>4</td>\n",
       "      <td>3</td>\n",
       "      <td>4</td>\n",
       "    </tr>\n",
       "  </tbody>\n",
       "</table>\n",
       "</div>"
      ],
      "text/plain": [
       "                                   title  ... impact\n",
       "0                                    NaN  ...      4\n",
       "1                   connection with icon  ...      4\n",
       "2                   work experience user  ...      4\n",
       "3                 requesting for meeting  ...      4\n",
       "4  reset passwords for external accounts  ...      4\n",
       "\n",
       "[5 rows x 9 columns]"
      ]
     },
     "execution_count": 6,
     "metadata": {
      "tags": []
     },
     "output_type": "execute_result"
    }
   ],
   "source": [
    "fname = \"all_tickets.csv\"\n",
    "\n",
    "df = pd.read_csv(fname)\n",
    "df.head()"
   ]
  },
  {
   "cell_type": "markdown",
   "metadata": {
    "colab_type": "text",
    "id": "r-TT8GrQa3En"
   },
   "source": [
    "<h2> 2. Data preprocessing </h2>\n",
    "\n",
    "**Preprocessing involves:**\n",
    "\n",
    "- Removing numbers & punctuations.\n",
    "- Expanding words to their full form. E.g: \"won't\" >>> \"will not\"\n",
    "- Removing stopwords.\n",
    "- Lemmatizing: Transforming words back to their root form. E.g: \"feet\" >>> \"foot\""
   ]
  },
  {
   "cell_type": "code",
   "execution_count": 0,
   "metadata": {
    "colab": {},
    "colab_type": "code",
    "id": "KY5hHNb_x0vz"
   },
   "outputs": [],
   "source": [
    "# Importing libraries required for text preprocessing\n",
    "\n",
    "import re    # Regex parsing\n",
    "from nltk.corpus import stopwords   # For stopword removal\n",
    "from nltk.stem import WordNetLemmatizer    # For stemming words\n",
    "\n",
    "stops = stopwords.words(\"english\")\n",
    "lemmatizer = WordNetLemmatizer()\n",
    "\n",
    "# Utilities for text preprocessing\n",
    "def txt_preprocess(x):\n",
    "    \n",
    "    x = str(x).lower()\n",
    "    \n",
    "    # Replacing unwanted texts\n",
    "    x = x.replace(\"′\", \"'\")\n",
    "    x = x.replace(\"’\", \"'\")\n",
    "    x = x.replace(\"won't\", \"will not\")\n",
    "    x = x.replace(\"cannot\", \"can not\")\n",
    "    x = x.replace(\"can't\", \"can not\")\n",
    "    x = x.replace(\"n't\", \" not\")\n",
    "    x = x.replace(\"what's\", \"what is\")\n",
    "    x = x.replace(\"it's\", \"it is\")\n",
    "    x = x.replace(\"'ve\", \" have\")\n",
    "    x = x.replace(\"i'm\", \"i am\")\n",
    "    x = x.replace(\"'re\", \" are\")\n",
    "    x = x.replace(\"he's\", \"he is\")\n",
    "    x = x.replace(\"she's\", \"she is\")\n",
    "    x = x.replace(\"'s\", \" own\")\n",
    "    x = x.replace(\"%\", \" percent \")\n",
    "    x = x.replace(\"'ll\", \" will\")\n",
    "    \n",
    "    # Tokenizing text\n",
    "    words = x.split(\" \")    \n",
    "    # Removing stopwords\n",
    "    words = [word for word in words if word not in stops]\n",
    "    # Lemmatizing words,i.e , replace word with corresponding root word.\n",
    "    words = [lemmatizer.lemmatize(word) for word in words]\n",
    "    # Words containing only alphabets\n",
    "    words = [word for word in words if word.isalpha()]\n",
    "    # Joining the words back\n",
    "    x = (\" \").join(words)\n",
    "    \n",
    "    return x"
   ]
  },
  {
   "cell_type": "code",
   "execution_count": 9,
   "metadata": {
    "colab": {
     "base_uri": "https://localhost:8080/",
     "height": 195
    },
    "colab_type": "code",
    "id": "UY3u4mgdyMiq",
    "outputId": "5c54c18d-ced8-475b-a0a8-805bcbd92d90"
   },
   "outputs": [
    {
     "data": {
      "text/html": [
       "<div>\n",
       "<style scoped>\n",
       "    .dataframe tbody tr th:only-of-type {\n",
       "        vertical-align: middle;\n",
       "    }\n",
       "\n",
       "    .dataframe tbody tr th {\n",
       "        vertical-align: top;\n",
       "    }\n",
       "\n",
       "    .dataframe thead th {\n",
       "        text-align: right;\n",
       "    }\n",
       "</style>\n",
       "<table border=\"1\" class=\"dataframe\">\n",
       "  <thead>\n",
       "    <tr style=\"text-align: right;\">\n",
       "      <th></th>\n",
       "      <th>title</th>\n",
       "      <th>body</th>\n",
       "      <th>ticket_type</th>\n",
       "      <th>category</th>\n",
       "      <th>sub_category1</th>\n",
       "      <th>sub_category2</th>\n",
       "      <th>business_service</th>\n",
       "      <th>urgency</th>\n",
       "      <th>impact</th>\n",
       "    </tr>\n",
       "  </thead>\n",
       "  <tbody>\n",
       "    <tr>\n",
       "      <th>0</th>\n",
       "      <td>NaN</td>\n",
       "      <td>hi since recruiter lead permission approve req...</td>\n",
       "      <td>1</td>\n",
       "      <td>4</td>\n",
       "      <td>2</td>\n",
       "      <td>21</td>\n",
       "      <td>71</td>\n",
       "      <td>3</td>\n",
       "      <td>4</td>\n",
       "    </tr>\n",
       "    <tr>\n",
       "      <th>1</th>\n",
       "      <td>connection with icon</td>\n",
       "      <td>icon dear please setup icon per icon engineer ...</td>\n",
       "      <td>1</td>\n",
       "      <td>6</td>\n",
       "      <td>22</td>\n",
       "      <td>7</td>\n",
       "      <td>26</td>\n",
       "      <td>3</td>\n",
       "      <td>4</td>\n",
       "    </tr>\n",
       "    <tr>\n",
       "      <th>2</th>\n",
       "      <td>work experience user</td>\n",
       "      <td>work experience user hi work experience studen...</td>\n",
       "      <td>1</td>\n",
       "      <td>5</td>\n",
       "      <td>13</td>\n",
       "      <td>7</td>\n",
       "      <td>32</td>\n",
       "      <td>3</td>\n",
       "      <td>4</td>\n",
       "    </tr>\n",
       "    <tr>\n",
       "      <th>3</th>\n",
       "      <td>requesting for meeting</td>\n",
       "      <td>requesting meeting hi please help follow equip...</td>\n",
       "      <td>1</td>\n",
       "      <td>5</td>\n",
       "      <td>13</td>\n",
       "      <td>7</td>\n",
       "      <td>32</td>\n",
       "      <td>3</td>\n",
       "      <td>4</td>\n",
       "    </tr>\n",
       "    <tr>\n",
       "      <th>4</th>\n",
       "      <td>reset passwords for external accounts</td>\n",
       "      <td>expire day hi ask help update password colleag...</td>\n",
       "      <td>1</td>\n",
       "      <td>4</td>\n",
       "      <td>2</td>\n",
       "      <td>76</td>\n",
       "      <td>4</td>\n",
       "      <td>3</td>\n",
       "      <td>4</td>\n",
       "    </tr>\n",
       "  </tbody>\n",
       "</table>\n",
       "</div>"
      ],
      "text/plain": [
       "                                   title  ... impact\n",
       "0                                    NaN  ...      4\n",
       "1                   connection with icon  ...      4\n",
       "2                   work experience user  ...      4\n",
       "3                 requesting for meeting  ...      4\n",
       "4  reset passwords for external accounts  ...      4\n",
       "\n",
       "[5 rows x 9 columns]"
      ]
     },
     "execution_count": 9,
     "metadata": {
      "tags": []
     },
     "output_type": "execute_result"
    }
   ],
   "source": [
    "df[\"body\"] = df[\"body\"].fillna(\"\").apply(txt_preprocess)\n",
    "df.head()"
   ]
  },
  {
   "cell_type": "code",
   "execution_count": 0,
   "metadata": {
    "colab": {},
    "colab_type": "code",
    "id": "VgililMMzbrq"
   },
   "outputs": [],
   "source": [
    "texts = df[\"body\"]\n",
    "labels = pd.get_dummies(df[\"category\"]).values"
   ]
  },
  {
   "cell_type": "markdown",
   "metadata": {
    "colab_type": "text",
    "id": "IA0nPfKIa_nu"
   },
   "source": [
    "<h2> 3. Preparing the data for training </h2>"
   ]
  },
  {
   "cell_type": "markdown",
   "metadata": {
    "colab_type": "text",
    "id": "t8-CaxcDcPn4"
   },
   "source": [
    "<h3> 3.1 Text to integer encodings </h3>\n",
    "\n",
    "Every word in a ticket-text is assigned an integer number."
   ]
  },
  {
   "cell_type": "code",
   "execution_count": 11,
   "metadata": {
    "colab": {
     "base_uri": "https://localhost:8080/",
     "height": 34
    },
    "colab_type": "code",
    "id": "Bk_xHLUDRlQt",
    "outputId": "5d1a2c50-2b2f-4942-b884-61b71e3ac32c"
   },
   "outputs": [
    {
     "name": "stdout",
     "output_type": "stream",
     "text": [
      "20\n"
     ]
    }
   ],
   "source": [
    "# Finding median length of sentence in whole dataset\n",
    "\n",
    "from statistics import median\n",
    "\n",
    "sent_lengths = []\n",
    "\n",
    "for i,text in texts.iteritems():\n",
    "    txt_len = len(text.split())\n",
    "    sent_lengths.append(txt_len)\n",
    "    \n",
    "median_len = median(sent_lengths) \n",
    "print(median_len)"
   ]
  },
  {
   "cell_type": "code",
   "execution_count": 12,
   "metadata": {
    "colab": {
     "base_uri": "https://localhost:8080/",
     "height": 34
    },
    "colab_type": "code",
    "id": "EeohlJM7zhoK",
    "outputId": "076fd720-8ce1-45e1-9000-ff6d0790bb04"
   },
   "outputs": [
    {
     "name": "stderr",
     "output_type": "stream",
     "text": [
      "Using TensorFlow backend.\n"
     ]
    }
   ],
   "source": [
    "from keras.preprocessing.text import Tokenizer\n",
    "from keras.preprocessing.sequence import pad_sequences"
   ]
  },
  {
   "cell_type": "code",
   "execution_count": 0,
   "metadata": {
    "colab": {},
    "colab_type": "code",
    "id": "NRT7lP2AzlC6"
   },
   "outputs": [],
   "source": [
    "training_samples = 44000\n",
    "validation_samples = df.shape[0] - training_samples\n",
    "maxlen = 50   # Median length being 20\n",
    "maxwords = 10000"
   ]
  },
  {
   "cell_type": "code",
   "execution_count": 14,
   "metadata": {
    "colab": {
     "base_uri": "https://localhost:8080/",
     "height": 151
    },
    "colab_type": "code",
    "id": "jOXeughBzo7y",
    "outputId": "3dadae89-6420-41a0-a989-b2fe5fef2287"
   },
   "outputs": [
    {
     "name": "stdout",
     "output_type": "stream",
     "text": [
      "Found 10486 unique tokens.\n"
     ]
    },
    {
     "data": {
      "text/plain": [
       "array([[   3,  196, 1781, ...,    0,    0,    0],\n",
       "       [ 923,   14,    1, ...,    0,    0,    0],\n",
       "       [  44,  605,   29, ...,    0,    0,    0],\n",
       "       ...,\n",
       "       [   8,   12,   18, ...,    0,    0,    0],\n",
       "       [   8,   12,   18, ...,    0,    0,    0],\n",
       "       [   6,    1,  132, ...,    0,    0,    0]], dtype=int32)"
      ]
     },
     "execution_count": 14,
     "metadata": {
      "tags": []
     },
     "output_type": "execute_result"
    }
   ],
   "source": [
    "tokenizer = Tokenizer(num_words=maxwords)\n",
    "tokenizer.fit_on_texts(texts)\n",
    "sequences = tokenizer.texts_to_sequences(texts)\n",
    "word_index = tokenizer.word_index\n",
    "\n",
    "print('Found %s unique tokens.' % len(word_index))\n",
    "data = pad_sequences(sequences, maxlen=maxlen, padding=\"post\")\n",
    "data"
   ]
  },
  {
   "cell_type": "markdown",
   "metadata": {
    "colab_type": "text",
    "id": "SEyfIuJ0cAYT"
   },
   "source": [
    "<h3> 3.2 Preparing the embedding matrix </h3>\n",
    "\n",
    "I would be using GLoVE embeddings(GLobal VEctors) to convert each word into a n-dimensional vector. These vector representations contain co-occurence information,i.e, which words occur in the context or vicinity of another word. In this way they try to capture the meaning of a word, which helps the neural net to **\"learn the meaning\"** of a sentence/document.\n",
    "\n",
    "![alt-text=\"Visualizing embeddings\"](https://s3-ap-south-1.amazonaws.com/av-blog-media/wp-content/uploads/2017/06/06062705/Word-Vectors.png)\n",
    "\n",
    "The file can be downloaded from this link: https://nlp.stanford.edu/projects/glove/"
   ]
  },
  {
   "cell_type": "code",
   "execution_count": 15,
   "metadata": {
    "colab": {
     "base_uri": "https://localhost:8080/",
     "height": 1000
    },
    "colab_type": "code",
    "id": "J48wVEbh0HbO",
    "outputId": "39f91bdb-e8f6-4438-a827-f39d9cd143a7"
   },
   "outputs": [
    {
     "name": "stdout",
     "output_type": "stream",
     "text": [
      "timecard\n",
      "nonrecoverable\n",
      "intr\n",
      "req\n",
      "unapplied\n",
      "unlinking\n",
      "greyed\n",
      "fulfiller\n",
      "receipting\n",
      "locomote\n",
      "cooky\n",
      "msec\n",
      "updaters\n",
      "rcpt\n",
      "qty\n",
      "keyset\n",
      "retries\n",
      "receipted\n",
      "notifier\n",
      "reseat\n",
      "assignat\n",
      "async\n",
      "distr\n",
      "inconsistences\n",
      "convertor\n",
      "inters\n",
      "incase\n",
      "transactor\n",
      "resubmissions\n",
      "sharable\n",
      "promptitude\n",
      "rebill\n",
      "vised\n",
      "allocable\n",
      "reseating\n",
      "homeworker\n",
      "holydays\n",
      "certes\n",
      "celling\n",
      "instr\n",
      "automatize\n",
      "cosec\n",
      "fulfillers\n",
      "engager\n",
      "decapsulate\n",
      "capacitate\n",
      "rejecter\n",
      "mistyping\n",
      "limitative\n",
      "unclarified\n",
      "eely\n",
      "yabber\n",
      "recopy\n",
      "sayst\n",
      "subtask\n",
      "troubleshot\n",
      "scanter\n",
      "vatic\n",
      "connecter\n",
      "reeving\n",
      "itemization\n",
      "automatization\n",
      "recept\n",
      "earnable\n",
      "chestier\n",
      "requestors\n",
      "spited\n",
      "reshaper\n",
      "countersignature\n",
      "coachers\n",
      "staled\n",
      "architecure\n",
      "fetchers\n",
      "deselect\n",
      "plier\n",
      "takeing\n",
      "numerate\n",
      "dumbs\n",
      "etape\n",
      "mktg\n",
      "valuta\n",
      "existents\n",
      "builded\n",
      "sherd\n",
      "accessability\n",
      "mistype\n",
      "surger\n",
      "adverted\n",
      "belows\n",
      "closuring\n",
      "suppler\n",
      "doest\n",
      "bulleting\n",
      "fallowed\n",
      "handwrite\n",
      "transferal\n",
      "automatized\n",
      "resoled\n",
      "pragmatical\n",
      "internality\n",
      "incommode\n",
      "insipidity\n",
      "laten\n",
      "demagnetized\n",
      "trued\n",
      "inutile\n",
      "concatenate\n",
      "roomer\n",
      "snappiness\n",
      "unbind\n",
      "rebind\n",
      "formating\n",
      "curser\n",
      "signalize\n",
      "storying\n",
      "updatable\n",
      "aspirator\n",
      "importable\n",
      "Total absent words are 118 which is 1.13 % of total words\n"
     ]
    }
   ],
   "source": [
    "embedding_dir = parent_dir + \"glove.6B.100d.txt\"\n",
    "embedding_index = dict()  # Key: word, Value: embedding vector\n",
    "\n",
    "# Opening the file containing GLoVe embeddings\n",
    "f = open(embedding_dir, encoding='utf8')\n",
    "\n",
    "for line in f:\n",
    "    values = line.split()\n",
    "    word = values[0]\n",
    "    coefs = np.asarray(values[1:], dtype='float32')\n",
    "    embedding_index[word] = coefs\n",
    "f.close()\n",
    "\n",
    "word_index = tokenizer.word_index\n",
    "vocab_size = len(word_index) + 1\n",
    "embed_size = 100\n",
    "embedding_matrix = np.zeros((vocab_size, embed_size))\n",
    "absent_words = 0\n",
    "\n",
    "for word, i in word_index.items():\n",
    "    embedding_vector = embedding_index.get(word)\n",
    "    if embedding_vector is not None:\n",
    "        # Words not found would be all zeros\n",
    "        embedding_matrix[i] = embedding_vector\n",
    "    else:\n",
    "        print(word)\n",
    "        absent_words += 1\n",
    "        \n",
    "print('Total absent words are', absent_words, 'which is', \n",
    "      \"%0.2f\" % (absent_words * 100 / len(word_index)), '% of total words')"
   ]
  },
  {
   "cell_type": "markdown",
   "metadata": {},
   "source": [
    "**There are 118 words for which no embedding were found , hence they would be represented by all zeros. To cope up for this loss we would set trainable=True in embedding layer, so that eventually during training the network learns semanic meaning of those words.**"
   ]
  },
  {
   "cell_type": "markdown",
   "metadata": {
    "colab_type": "text",
    "id": "1Z_etrfaz0C1"
   },
   "source": [
    "<h2>4. Train-Test split </h2>"
   ]
  },
  {
   "cell_type": "code",
   "execution_count": 0,
   "metadata": {
    "colab": {},
    "colab_type": "code",
    "id": "125c5B_Tzr7R"
   },
   "outputs": [],
   "source": [
    "indices = np.arange(data.shape[0])\n",
    "np.random.shuffle(indices)\n",
    "\n",
    "data = data[indices]\n",
    "labels = labels[indices]\n",
    "\n",
    "x_train = data[:training_samples]\n",
    "y_train = labels[:training_samples]\n",
    "x_val = data[training_samples: training_samples + validation_samples]\n",
    "y_val = labels[training_samples: training_samples + validation_samples]"
   ]
  },
  {
   "cell_type": "code",
   "execution_count": 0,
   "metadata": {
    "colab": {},
    "colab_type": "code",
    "id": "6kqEcQphz5cS"
   },
   "outputs": [],
   "source": [
    "# Sanity check\n",
    "assert(x_train.shape[0] == y_train.shape[0])\n",
    "assert(x_val.shape[0] == y_val.shape[0])"
   ]
  },
  {
   "cell_type": "markdown",
   "metadata": {
    "colab_type": "text",
    "id": "sXo8sBQXdaps"
   },
   "source": [
    "<h2> 5. Utility functions for performance visualization </h2>"
   ]
  },
  {
   "cell_type": "code",
   "execution_count": 0,
   "metadata": {
    "colab": {},
    "colab_type": "code",
    "id": "_29rSIUo1quG"
   },
   "outputs": [],
   "source": [
    "# Importing necessary libraries \n",
    "\n",
    "from sklearn.metrics import confusion_matrix\n",
    "import matplotlib.pyplot as plt\n",
    "import seaborn as sns\n",
    "\n",
    "# This function plots the confusion matrices given y_i, y_i_hat.\n",
    "def plot_confusion_matrix(test_y, predict_y,num_classes):\n",
    "    C = confusion_matrix(test_y, predict_y)\n",
    "    # C = 9,9 matrix, each cell (i,j) represents number of points of class i are predicted class j\n",
    "    \n",
    "    plt.figure(figsize=(15,10))\n",
    "    \n",
    "    labels = [i for i in range(num_classes)]\n",
    "    \n",
    "    # representing A in heatmap format\n",
    "    cmap=sns.light_palette(\"blue\")\n",
    "    sns.heatmap(C, annot=True, cmap=cmap, fmt=\".3f\", xticklabels=labels, yticklabels=labels)\n",
    "    plt.xlabel('Predicted Class')\n",
    "    plt.ylabel('Original Class')\n",
    "    plt.title(\"Confusion matrix\")\n",
    "    \n",
    "    plt.show()"
   ]
  },
  {
   "cell_type": "markdown",
   "metadata": {
    "colab_type": "text",
    "id": "M1-3Uf19x2vG"
   },
   "source": [
    "<h2> 6. Finding class weights </h2>"
   ]
  },
  {
   "cell_type": "code",
   "execution_count": 0,
   "metadata": {
    "colab": {},
    "colab_type": "code",
    "id": "EOvzqXYAj3SO"
   },
   "outputs": [],
   "source": [
    "def flatten_one_hot(y_true):\n",
    "\n",
    "  labels = []\n",
    "\n",
    "  for one_hot_label in y_true:\n",
    "    labels.append(np.argmax(one_hot_label))\n",
    "\n",
    "  labels = np.array(labels)\n",
    "  return labels"
   ]
  },
  {
   "cell_type": "code",
   "execution_count": 112,
   "metadata": {
    "colab": {
     "base_uri": "https://localhost:8080/",
     "height": 84
    },
    "colab_type": "code",
    "id": "xTOktzA8jp5o",
    "outputId": "a1d05b81-51b2-41b5-a9eb-a10bbf2ada05"
   },
   "outputs": [
    {
     "data": {
      "text/plain": [
       "array([8.46153846e+02, 4.97737557e+01, 1.12820513e+03, 2.77427491e+01,\n",
       "       1.09548660e-01, 3.89394315e-01, 1.41853118e+00, 4.03892051e+00,\n",
       "       1.56695157e+01, 2.00273100e+01, 1.69230769e+03, 6.03318250e+00,\n",
       "       7.87119857e+01])"
      ]
     },
     "execution_count": 112,
     "metadata": {
      "tags": []
     },
     "output_type": "execute_result"
    }
   ],
   "source": [
    "from sklearn.utils import class_weight\n",
    "\n",
    "y_train_labels = flatten_one_hot(y_train)\n",
    "class_weight = class_weight.compute_class_weight('balanced', np.unique(y_train_labels), y_train_labels)\n",
    "class_weight"
   ]
  },
  {
   "cell_type": "markdown",
   "metadata": {
    "colab_type": "text",
    "id": "rcj_3KJYyKsS"
   },
   "source": [
    "<h3> Observations:  </h3>\n",
    "\n",
    "\n",
    "*   Class-4 & 5 have received low weights because they are in majority \n",
    "*   Class 0, 2, 10 have received high weights because they are minority classes.\n",
    "\n"
   ]
  },
  {
   "cell_type": "code",
   "execution_count": 0,
   "metadata": {
    "colab": {},
    "colab_type": "code",
    "id": "AFb3zyB75Mh1"
   },
   "outputs": [],
   "source": [
    "def plot_metrics(hist, num_epochs):\n",
    "    \"\"\"\n",
    "    Compares accuracy & loss plots.\n",
    "    \"\"\"    \n",
    "  acc = hist.history[\"categorical_accuracy\"]\n",
    "  val_acc = hist.history[\"val_categorical_accuracy\"]\n",
    "\n",
    "  loss = hist.history[\"loss\"]\n",
    "  val_loss = hist.history[\"val_loss\"]\n",
    "  \n",
    "  epochs = range(num_epochs)\n",
    "  \n",
    "  plt.figure(figsize=(10,7))\n",
    "  \n",
    "  plt.subplot(1,2,1)\n",
    "  plt.plot(epochs, acc, 'bo', label=\"Accuracy\")\n",
    "  plt.plot(epochs, val_acc, 'b', label=\"Validation Accuracy\")\n",
    "  plt.grid()\n",
    "  plt.legend()\n",
    "  \n",
    "  plt.subplot(1,2,2)\n",
    "  plt.plot(epochs, loss, 'bo', label=\"Loss\")\n",
    "  plt.plot(epochs, val_loss, 'b', label=\"Validation Loss\")\n",
    "  plt.grid()\n",
    "  plt.legend()  \n",
    "  \n",
    "  plt.show()"
   ]
  },
  {
   "cell_type": "markdown",
   "metadata": {
    "colab_type": "text",
    "id": "HfvUj-yLbSJ6"
   },
   "source": [
    "<h2> 7. Training models </h2>"
   ]
  },
  {
   "cell_type": "markdown",
   "metadata": {
    "colab_type": "text",
    "id": "mJ6cqrc30OrT"
   },
   "source": [
    "<h3> 7.1 Using LSTM</h3>"
   ]
  },
  {
   "cell_type": "code",
   "execution_count": 0,
   "metadata": {
    "colab": {},
    "colab_type": "code",
    "id": "IxJq5Lni0oON"
   },
   "outputs": [],
   "source": [
    "from keras.models import Sequential\n",
    "from keras.layers import Embedding, CuDNNLSTM, Dense, SpatialDropout1D, GlobalMaxPooling1D, Dropout"
   ]
  },
  {
   "cell_type": "code",
   "execution_count": 47,
   "metadata": {
    "colab": {
     "base_uri": "https://localhost:8080/",
     "height": 370
    },
    "colab_type": "code",
    "id": "OalxhyAZ0wRq",
    "outputId": "56873d5d-77dc-4518-c64d-7ca505b28f5b"
   },
   "outputs": [
    {
     "name": "stdout",
     "output_type": "stream",
     "text": [
      "_________________________________________________________________\n",
      "Layer (type)                 Output Shape              Param #   \n",
      "=================================================================\n",
      "embedding_7 (Embedding)      (None, 50, 100)           1048700   \n",
      "_________________________________________________________________\n",
      "spatial_dropout1d_7 (Spatial (None, 50, 100)           0         \n",
      "_________________________________________________________________\n",
      "cu_dnnlstm_3 (CuDNNLSTM)     (None, 50, 64)            42496     \n",
      "_________________________________________________________________\n",
      "global_max_pooling1d_7 (Glob (None, 64)                0         \n",
      "_________________________________________________________________\n",
      "dense_6 (Dense)              (None, 128)               8320      \n",
      "_________________________________________________________________\n",
      "dropout_4 (Dropout)          (None, 128)               0         \n",
      "_________________________________________________________________\n",
      "Output (Dense)               (None, 13)                1677      \n",
      "=================================================================\n",
      "Total params: 1,101,193\n",
      "Trainable params: 1,101,193\n",
      "Non-trainable params: 0\n",
      "_________________________________________________________________\n"
     ]
    }
   ],
   "source": [
    "e = Embedding(vocab_size, embed_size, weights=[embedding_matrix], input_length=50, trainable=True)\n",
    "num_classes = 13\n",
    "\n",
    "model1 = Sequential()\n",
    "model1.add(e)\n",
    "model1.add(SpatialDropout1D(0.2))\n",
    "model1.add(CuDNNLSTM(64, return_sequences=True))\n",
    "model1.add(GlobalMaxPooling1D())\n",
    "model1.add(Dense(128, activation=\"relu\"))\n",
    "model1.add(Dropout(0.25))\n",
    "model1.add(Dense(num_classes, activation=\"softmax\", name=\"Output\"))\n",
    "\n",
    "model1.summary()"
   ]
  },
  {
   "cell_type": "code",
   "execution_count": 0,
   "metadata": {
    "colab": {},
    "colab_type": "code",
    "id": "IU9vvp_p0zYq"
   },
   "outputs": [],
   "source": [
    "from keras.optimizers import Adam\n",
    "\n",
    "model1.compile(optimizer=Adam(lr=1e-4),\n",
    "             loss=\"categorical_crossentropy\",\n",
    "             metrics=[\"categorical_accuracy\"])"
   ]
  },
  {
   "cell_type": "code",
   "execution_count": 57,
   "metadata": {
    "colab": {
     "base_uri": "https://localhost:8080/",
     "height": 722
    },
    "colab_type": "code",
    "id": "52SHiHyb04RB",
    "outputId": "05b37f46-715c-47e6-9458-e18687852ac3"
   },
   "outputs": [
    {
     "name": "stdout",
     "output_type": "stream",
     "text": [
      "Train on 39600 samples, validate on 4400 samples\n",
      "Epoch 1/10\n",
      "39600/39600 [==============================] - 3s 73us/step - loss: 0.5736 - categorical_accuracy: 0.8210 - val_loss: 0.5559 - val_categorical_accuracy: 0.8286\n",
      "\n",
      "Epoch 00001: val_loss improved from inf to 0.55587, saving model to baseline.h5\n",
      "Epoch 2/10\n",
      "39600/39600 [==============================] - 2s 60us/step - loss: 0.5556 - categorical_accuracy: 0.8257 - val_loss: 0.5462 - val_categorical_accuracy: 0.8325\n",
      "\n",
      "Epoch 00002: val_loss improved from 0.55587 to 0.54624, saving model to baseline.h5\n",
      "Epoch 3/10\n",
      "39600/39600 [==============================] - 2s 59us/step - loss: 0.5450 - categorical_accuracy: 0.8300 - val_loss: 0.5304 - val_categorical_accuracy: 0.8364\n",
      "\n",
      "Epoch 00003: val_loss improved from 0.54624 to 0.53041, saving model to baseline.h5\n",
      "Epoch 4/10\n",
      "39600/39600 [==============================] - 2s 59us/step - loss: 0.5315 - categorical_accuracy: 0.8343 - val_loss: 0.5220 - val_categorical_accuracy: 0.8373\n",
      "\n",
      "Epoch 00004: val_loss improved from 0.53041 to 0.52199, saving model to baseline.h5\n",
      "Epoch 5/10\n",
      "39600/39600 [==============================] - 2s 59us/step - loss: 0.5240 - categorical_accuracy: 0.8359 - val_loss: 0.5176 - val_categorical_accuracy: 0.8418\n",
      "\n",
      "Epoch 00005: val_loss improved from 0.52199 to 0.51756, saving model to baseline.h5\n",
      "Epoch 6/10\n",
      "39600/39600 [==============================] - 2s 59us/step - loss: 0.5162 - categorical_accuracy: 0.8387 - val_loss: 0.5171 - val_categorical_accuracy: 0.8423\n",
      "\n",
      "Epoch 00006: val_loss improved from 0.51756 to 0.51709, saving model to baseline.h5\n",
      "Epoch 7/10\n",
      "39600/39600 [==============================] - 2s 59us/step - loss: 0.5094 - categorical_accuracy: 0.8397 - val_loss: 0.5051 - val_categorical_accuracy: 0.8432\n",
      "\n",
      "Epoch 00007: val_loss improved from 0.51709 to 0.50515, saving model to baseline.h5\n",
      "Epoch 8/10\n",
      "39600/39600 [==============================] - 2s 60us/step - loss: 0.5023 - categorical_accuracy: 0.8411 - val_loss: 0.5052 - val_categorical_accuracy: 0.8434\n",
      "\n",
      "Epoch 00008: val_loss did not improve from 0.50515\n",
      "Epoch 9/10\n",
      "39600/39600 [==============================] - 2s 60us/step - loss: 0.4982 - categorical_accuracy: 0.8424 - val_loss: 0.4968 - val_categorical_accuracy: 0.8416\n",
      "\n",
      "Epoch 00009: val_loss improved from 0.50515 to 0.49680, saving model to baseline.h5\n",
      "Epoch 10/10\n",
      "39600/39600 [==============================] - 2s 59us/step - loss: 0.4906 - categorical_accuracy: 0.8438 - val_loss: 0.4905 - val_categorical_accuracy: 0.8443\n",
      "\n",
      "Epoch 00010: val_loss improved from 0.49680 to 0.49051, saving model to baseline.h5\n",
      "Epoch 00010: early stopping\n"
     ]
    }
   ],
   "source": [
    "from keras.callbacks import ModelCheckpoint, EarlyStopping\n",
    "\n",
    "filename = 'baseline.h5'\n",
    "num_epochs = 10\n",
    "Batch_size = 128\n",
    "\n",
    "es = EarlyStopping(monitor='val_loss', mode='min', baseline=0.2, verbose=1, patience=10)\n",
    "checkpoint = ModelCheckpoint(filename, monitor='val_loss', verbose=1, save_best_only=True, mode='min')\n",
    "\n",
    "# fit model\n",
    "hist = model1.fit(x_train, y_train, epochs=num_epochs, batch_size=Batch_size, validation_split=0.1, \n",
    "                 callbacks=[es,checkpoint], verbose=1)"
   ]
  },
  {
   "cell_type": "code",
   "execution_count": 66,
   "metadata": {
    "colab": {
     "base_uri": "https://localhost:8080/",
     "height": 432
    },
    "colab_type": "code",
    "id": "rHGP_UXS92I5",
    "outputId": "c005614a-abc7-45c3-cf30-357bba77b89e"
   },
   "outputs": [
    {
     "data": {
      "image/png": "[encoded data removed]",
      "text/plain": [
       "<Figure size 720x504 with 2 Axes>"
      ]
     },
     "metadata": {
      "tags": []
     },
     "output_type": "display_data"
    }
   ],
   "source": [
    "plot_metrics(hist, num_epochs)"
   ]
  },
  {
   "cell_type": "code",
   "execution_count": 50,
   "metadata": {
    "colab": {
     "base_uri": "https://localhost:8080/",
     "height": 621
    },
    "colab_type": "code",
    "id": "JZ7RKOIMzUMa",
    "outputId": "42609ce5-38e0-43c9-add1-e46bd978791c"
   },
   "outputs": [
    {
     "data": {
      "image/png": "[encoded data removed]",
      "text/plain": [
       "<Figure size 1080x720 with 2 Axes>"
      ]
     },
     "metadata": {
      "tags": []
     },
     "output_type": "display_data"
    }
   ],
   "source": [
    "y_pred = model1.predict_classes(x_val)\n",
    "y_test = flatten_one_hot(y_val)\n",
    "\n",
    "plot_confusion_matrix(y_test, y_pred, 13)  # Look at principal diagonal values"
   ]
  },
  {
   "cell_type": "markdown",
   "metadata": {
    "colab_type": "text",
    "id": "9htXREj040AT"
   },
   "source": [
    "<h3> 7.2 Using multilayered Bidirectional LSTM </h3>"
   ]
  },
  {
   "cell_type": "code",
   "execution_count": 67,
   "metadata": {
    "colab": {
     "base_uri": "https://localhost:8080/",
     "height": 437
    },
    "colab_type": "code",
    "id": "In7fylnI8U6m",
    "outputId": "969c5cfb-2e73-468a-9b67-33f5da30efee"
   },
   "outputs": [
    {
     "name": "stdout",
     "output_type": "stream",
     "text": [
      "_________________________________________________________________\n",
      "Layer (type)                 Output Shape              Param #   \n",
      "=================================================================\n",
      "embedding_10 (Embedding)     (None, 50, 100)           1048700   \n",
      "_________________________________________________________________\n",
      "spatial_dropout1d_10 (Spatia (None, 50, 100)           0         \n",
      "_________________________________________________________________\n",
      "bidirectional_3 (Bidirection (None, 50, 128)           84992     \n",
      "_________________________________________________________________\n",
      "bidirectional_4 (Bidirection (None, 50, 128)           99328     \n",
      "_________________________________________________________________\n",
      "global_max_pooling1d_9 (Glob (None, 128)               0         \n",
      "_________________________________________________________________\n",
      "dropout_7 (Dropout)          (None, 128)               0         \n",
      "_________________________________________________________________\n",
      "dense_8 (Dense)              (None, 128)               16512     \n",
      "_________________________________________________________________\n",
      "dropout_8 (Dropout)          (None, 128)               0         \n",
      "_________________________________________________________________\n",
      "Output (Dense)               (None, 13)                1677      \n",
      "=================================================================\n",
      "Total params: 1,251,209\n",
      "Trainable params: 1,251,209\n",
      "Non-trainable params: 0\n",
      "_________________________________________________________________\n"
     ]
    }
   ],
   "source": [
    "from keras.layers import Bidirectional\n",
    "\n",
    "e = Embedding(vocab_size, embed_size, weights=[embedding_matrix], input_length=50, trainable=True)\n",
    "num_classes = 13\n",
    "\n",
    "model2 = Sequential()\n",
    "model2.add(e)\n",
    "model2.add(SpatialDropout1D(0.2))\n",
    "model2.add(Bidirectional(CuDNNLSTM(64,return_sequences=True)))\n",
    "model2.add(Bidirectional(CuDNNLSTM(64, return_sequences=True)))\n",
    "model2.add(GlobalMaxPooling1D())\n",
    "model2.add(Dropout(0.5))\n",
    "model2.add(Dense(128, activation=\"relu\"))\n",
    "model2.add(Dropout(0.5))\n",
    "model2.add(Dense(num_classes, activation=\"softmax\", name=\"Output\"))\n",
    "\n",
    "model2.summary()"
   ]
  },
  {
   "cell_type": "code",
   "execution_count": 0,
   "metadata": {
    "colab": {},
    "colab_type": "code",
    "id": "DxafpA1B-hhw"
   },
   "outputs": [],
   "source": [
    "from keras.optimizers import Adam\n",
    "\n",
    "model2.compile(optimizer=Adam(lr=1e-4),\n",
    "             loss=\"categorical_crossentropy\",\n",
    "             metrics=[\"categorical_accuracy\"])"
   ]
  },
  {
   "cell_type": "code",
   "execution_count": 135,
   "metadata": {
    "colab": {
     "base_uri": "https://localhost:8080/",
     "height": 1000
    },
    "colab_type": "code",
    "id": "2__XqmTv-nrO",
    "outputId": "e51f88a1-d923-40f3-c4c5-068e4c98abfd"
   },
   "outputs": [
    {
     "name": "stdout",
     "output_type": "stream",
     "text": [
      "Train on 44000 samples, validate on 4549 samples\n",
      "Epoch 1/20\n",
      "44000/44000 [==============================] - 6s 147us/step - loss: 0.5095 - categorical_accuracy: 0.8380 - val_loss: 0.4499 - val_categorical_accuracy: 0.8503\n",
      "\n",
      "Epoch 00001: val_loss improved from inf to 0.44994, saving model to multilayeredBidirLSTM.h5\n",
      "Epoch 2/20\n",
      "44000/44000 [==============================] - 6s 143us/step - loss: 0.5056 - categorical_accuracy: 0.8400 - val_loss: 0.4475 - val_categorical_accuracy: 0.8536\n",
      "\n",
      "Epoch 00002: val_loss improved from 0.44994 to 0.44750, saving model to multilayeredBidirLSTM.h5\n",
      "Epoch 3/20\n",
      "44000/44000 [==============================] - 6s 143us/step - loss: 0.4978 - categorical_accuracy: 0.8424 - val_loss: 0.4482 - val_categorical_accuracy: 0.8540\n",
      "\n",
      "Epoch 00003: val_loss did not improve from 0.44750\n",
      "Epoch 4/20\n",
      "44000/44000 [==============================] - 6s 144us/step - loss: 0.4929 - categorical_accuracy: 0.8443 - val_loss: 0.4470 - val_categorical_accuracy: 0.8545\n",
      "\n",
      "Epoch 00004: val_loss improved from 0.44750 to 0.44701, saving model to multilayeredBidirLSTM.h5\n",
      "Epoch 5/20\n",
      "44000/44000 [==============================] - 6s 143us/step - loss: 0.4879 - categorical_accuracy: 0.8447 - val_loss: 0.4471 - val_categorical_accuracy: 0.8545\n",
      "\n",
      "Epoch 00005: val_loss did not improve from 0.44701\n",
      "Epoch 6/20\n",
      "44000/44000 [==============================] - 6s 143us/step - loss: 0.4806 - categorical_accuracy: 0.8479 - val_loss: 0.4426 - val_categorical_accuracy: 0.8567\n",
      "\n",
      "Epoch 00006: val_loss improved from 0.44701 to 0.44257, saving model to multilayeredBidirLSTM.h5\n",
      "Epoch 7/20\n",
      "44000/44000 [==============================] - 6s 142us/step - loss: 0.4810 - categorical_accuracy: 0.8470 - val_loss: 0.4495 - val_categorical_accuracy: 0.8529\n",
      "\n",
      "Epoch 00007: val_loss did not improve from 0.44257\n",
      "Epoch 8/20\n",
      "44000/44000 [==============================] - 6s 142us/step - loss: 0.4734 - categorical_accuracy: 0.8469 - val_loss: 0.4426 - val_categorical_accuracy: 0.8562\n",
      "\n",
      "Epoch 00008: val_loss did not improve from 0.44257\n",
      "Epoch 9/20\n",
      "44000/44000 [==============================] - 6s 142us/step - loss: 0.4705 - categorical_accuracy: 0.8493 - val_loss: 0.4466 - val_categorical_accuracy: 0.8569\n",
      "\n",
      "Epoch 00009: val_loss did not improve from 0.44257\n",
      "Epoch 10/20\n",
      "44000/44000 [==============================] - 6s 142us/step - loss: 0.4637 - categorical_accuracy: 0.8514 - val_loss: 0.4427 - val_categorical_accuracy: 0.8558\n",
      "\n",
      "Epoch 00010: val_loss did not improve from 0.44257\n",
      "Epoch 11/20\n",
      "44000/44000 [==============================] - 6s 141us/step - loss: 0.4618 - categorical_accuracy: 0.8516 - val_loss: 0.4374 - val_categorical_accuracy: 0.8580\n",
      "\n",
      "Epoch 00011: val_loss improved from 0.44257 to 0.43740, saving model to multilayeredBidirLSTM.h5\n",
      "Epoch 12/20\n",
      "44000/44000 [==============================] - 6s 142us/step - loss: 0.4567 - categorical_accuracy: 0.8518 - val_loss: 0.4410 - val_categorical_accuracy: 0.8571\n",
      "\n",
      "Epoch 00012: val_loss did not improve from 0.43740\n",
      "Epoch 13/20\n",
      "44000/44000 [==============================] - 6s 142us/step - loss: 0.4530 - categorical_accuracy: 0.8539 - val_loss: 0.4389 - val_categorical_accuracy: 0.8578\n",
      "\n",
      "Epoch 00013: val_loss did not improve from 0.43740\n",
      "Epoch 14/20\n",
      "44000/44000 [==============================] - 6s 142us/step - loss: 0.4484 - categorical_accuracy: 0.8552 - val_loss: 0.4382 - val_categorical_accuracy: 0.8595\n",
      "\n",
      "Epoch 00014: val_loss did not improve from 0.43740\n",
      "Epoch 15/20\n",
      "44000/44000 [==============================] - 6s 141us/step - loss: 0.4450 - categorical_accuracy: 0.8553 - val_loss: 0.4417 - val_categorical_accuracy: 0.8600\n",
      "\n",
      "Epoch 00015: val_loss did not improve from 0.43740\n",
      "Epoch 16/20\n",
      "44000/44000 [==============================] - 6s 142us/step - loss: 0.4436 - categorical_accuracy: 0.8570 - val_loss: 0.4382 - val_categorical_accuracy: 0.8580\n",
      "\n",
      "Epoch 00016: val_loss did not improve from 0.43740\n",
      "Epoch 17/20\n",
      "44000/44000 [==============================] - 6s 145us/step - loss: 0.4365 - categorical_accuracy: 0.8589 - val_loss: 0.4346 - val_categorical_accuracy: 0.8589\n",
      "\n",
      "Epoch 00017: val_loss improved from 0.43740 to 0.43464, saving model to multilayeredBidirLSTM.h5\n",
      "Epoch 18/20\n",
      "44000/44000 [==============================] - 6s 142us/step - loss: 0.4353 - categorical_accuracy: 0.8582 - val_loss: 0.4357 - val_categorical_accuracy: 0.8602\n",
      "\n",
      "Epoch 00018: val_loss did not improve from 0.43464\n",
      "Epoch 19/20\n",
      "44000/44000 [==============================] - 6s 142us/step - loss: 0.4330 - categorical_accuracy: 0.8597 - val_loss: 0.4351 - val_categorical_accuracy: 0.8589\n",
      "\n",
      "Epoch 00019: val_loss did not improve from 0.43464\n",
      "Epoch 20/20\n",
      "44000/44000 [==============================] - 6s 142us/step - loss: 0.4322 - categorical_accuracy: 0.8586 - val_loss: 0.4370 - val_categorical_accuracy: 0.8578\n",
      "\n",
      "Epoch 00020: val_loss did not improve from 0.43464\n"
     ]
    }
   ],
   "source": [
    "from keras.callbacks import ModelCheckpoint, EarlyStopping, ReduceLROnPlateau\n",
    "\n",
    "filename = 'multilayeredBidirLSTM.h5'\n",
    "num_epochs = 20\n",
    "Batch_size = 128\n",
    "\n",
    "es = EarlyStopping(monitor='val_loss', mode='min', baseline=0.2, min_delta=0.0005, patience=20)\n",
    "checkpoint = ModelCheckpoint(filename, monitor='val_loss', verbose=1, save_best_only=True, mode='min')\n",
    "reduce_lr = ReduceLROnPlateau(monitor='val_loss',factor=0.5, patience=5)\n",
    "\n",
    "# fit model\n",
    "hist = model2.fit(x_train, y_train, epochs=num_epochs, batch_size=Batch_size, validation_data=(x_val, y_val), \n",
    "                 callbacks=[es,checkpoint,reduce_lr], verbose=1)"
   ]
  },
  {
   "cell_type": "code",
   "execution_count": 71,
   "metadata": {
    "colab": {
     "base_uri": "https://localhost:8080/",
     "height": 432
    },
    "colab_type": "code",
    "id": "LpoxXiPi_8Ft",
    "outputId": "c854b7f4-2260-4247-bac9-3155f76cc6c8"
   },
   "outputs": [
    {
     "data": {
      "image/png": "[encoded data removed]",
      "text/plain": [
       "<Figure size 720x504 with 2 Axes>"
      ]
     },
     "metadata": {
      "tags": []
     },
     "output_type": "display_data"
    }
   ],
   "source": [
    "plot_metrics(hist, num_epochs)"
   ]
  },
  {
   "cell_type": "code",
   "execution_count": 70,
   "metadata": {
    "colab": {
     "base_uri": "https://localhost:8080/",
     "height": 621
    },
    "colab_type": "code",
    "id": "jdd4zokQ_13g",
    "outputId": "51f1b7cf-9dd3-4619-dc25-1ac69a9e6799"
   },
   "outputs": [
    {
     "data": {
      "image/png": "[encoded data removed]",
      "text/plain": [
       "<Figure size 1080x720 with 2 Axes>"
      ]
     },
     "metadata": {
      "tags": []
     },
     "output_type": "display_data"
    }
   ],
   "source": [
    "y_pred = model2.predict_classes(x_val)\n",
    "\n",
    "plot_confusion_matrix(y_test, y_pred, 13)"
   ]
  },
  {
   "cell_type": "markdown",
   "metadata": {
    "colab_type": "text",
    "id": "4zZ8i6BXMR7m"
   },
   "source": [
    "<h3> 7.3 Attention is all you need !!!</h3>\n",
    "\n",
    "Now lets use attention (Raffel et al). A brief description of what attention does is : \"Attention allows the model to focus on the relevant parts of the input sequence as needed.\"\n",
    "\n",
    "![alt-text=\"Visualizing attention\"](https://pic4.zhimg.com/v2-a2db0687ce55dcd2324e00851dd0426c_1200x500.jpg)\n",
    "\n",
    "For more info one can visit this link: https://jalammar.github.io/visualizing-neural-machine-translation-mechanics-of-seq2seq-models-with-attention/ .\n",
    "It contains a wonderful visual description of how attention works in case of mchine translation.\n",
    "\n",
    "The following code from Attention class has been **stolen** from https://www.kaggle.com/suicaokhoailang/lstm-attention-baseline-0-672-lb."
   ]
  },
  {
   "cell_type": "code",
   "execution_count": 0,
   "metadata": {
    "colab": {},
    "colab_type": "code",
    "id": "Vox3G8k0J9Zg"
   },
   "outputs": [],
   "source": [
    "from keras.models import Sequential,Model\n",
    "from keras.layers import CuDNNLSTM, Dense, Bidirectional, Input,Dropout\n",
    "\n",
    "from keras import backend as K\n",
    "from keras.engine.topology import Layer\n",
    "from keras import initializers, regularizers, constraints"
   ]
  },
  {
   "cell_type": "code",
   "execution_count": 0,
   "metadata": {
    "colab": {},
    "colab_type": "code",
    "id": "UmdfSq8nNNU6"
   },
   "outputs": [],
   "source": [
    "class Attention(Layer):\n",
    "    def __init__(self, step_dim,\n",
    "                 W_regularizer=None, b_regularizer=None,\n",
    "                 W_constraint=None, b_constraint=None,\n",
    "                 bias=True, **kwargs):\n",
    "        self.supports_masking = True\n",
    "        self.init = initializers.get('glorot_uniform')\n",
    "\n",
    "        self.W_regularizer = regularizers.get(W_regularizer)\n",
    "        self.b_regularizer = regularizers.get(b_regularizer)\n",
    "\n",
    "        self.W_constraint = constraints.get(W_constraint)\n",
    "        self.b_constraint = constraints.get(b_constraint)\n",
    "\n",
    "        self.bias = bias\n",
    "        self.step_dim = step_dim\n",
    "        self.features_dim = 0\n",
    "        super(Attention, self).__init__(**kwargs)\n",
    "\n",
    "    def build(self, input_shape):\n",
    "        assert len(input_shape) == 3\n",
    "\n",
    "        self.W = self.add_weight((input_shape[-1],),\n",
    "                                 initializer=self.init,\n",
    "                                 name='{}_W'.format(self.name),\n",
    "                                 regularizer=self.W_regularizer,\n",
    "                                 constraint=self.W_constraint)\n",
    "        self.features_dim = input_shape[-1]\n",
    "\n",
    "        if self.bias:\n",
    "            self.b = self.add_weight((input_shape[1],),\n",
    "                                     initializer='zero',\n",
    "                                     name='{}_b'.format(self.name),\n",
    "                                     regularizer=self.b_regularizer,\n",
    "                                     constraint=self.b_constraint)\n",
    "        else:\n",
    "            self.b = None\n",
    "\n",
    "        self.built = True\n",
    "\n",
    "    def compute_mask(self, input, input_mask=None):\n",
    "        return None\n",
    "    \n",
    "    def call(self, x, mask=None):\n",
    "        features_dim = self.features_dim\n",
    "        step_dim = self.step_dim\n",
    "\n",
    "        eij = K.reshape(K.dot(K.reshape(x, (-1, features_dim)),\n",
    "                        K.reshape(self.W, (features_dim, 1))), (-1, step_dim))\n",
    "\n",
    "        if self.bias:\n",
    "            eij += self.b\n",
    "\n",
    "        eij = K.tanh(eij)\n",
    "\n",
    "        a = K.exp(eij)\n",
    "\n",
    "        if mask is not None:\n",
    "            a *= K.cast(mask, K.floatx())\n",
    "\n",
    "        a /= K.cast(K.sum(a, axis=1, keepdims=True) + K.epsilon(), K.floatx())\n",
    "\n",
    "        a = K.expand_dims(a)\n",
    "        weighted_input = x * a\n",
    "        return K.sum(weighted_input, axis=1)\n",
    "\n",
    "    def compute_output_shape(self, input_shape):\n",
    "        return input_shape[0],  self.features_dim"
   ]
  },
  {
   "cell_type": "code",
   "execution_count": 139,
   "metadata": {
    "colab": {
     "base_uri": "https://localhost:8080/",
     "height": 370
    },
    "colab_type": "code",
    "id": "xnzQ-4zhNzdF",
    "outputId": "3e7b2bbd-163e-4187-a747-b326d08d8c79"
   },
   "outputs": [
    {
     "name": "stdout",
     "output_type": "stream",
     "text": [
      "_________________________________________________________________\n",
      "Layer (type)                 Output Shape              Param #   \n",
      "=================================================================\n",
      "embedding_32 (Embedding)     (None, 50, 100)           1048700   \n",
      "_________________________________________________________________\n",
      "spatial_dropout1d_18 (Spatia (None, 50, 100)           0         \n",
      "_________________________________________________________________\n",
      "bidirectional_47 (Bidirectio (None, 50, 128)           84992     \n",
      "_________________________________________________________________\n",
      "attention_22 (Attention)     (None, 128)               178       \n",
      "_________________________________________________________________\n",
      "dense_29 (Dense)             (None, 256)               33024     \n",
      "_________________________________________________________________\n",
      "dropout_30 (Dropout)         (None, 256)               0         \n",
      "_________________________________________________________________\n",
      "Output (Dense)               (None, 13)                3341      \n",
      "=================================================================\n",
      "Total params: 1,170,235\n",
      "Trainable params: 1,170,235\n",
      "Non-trainable params: 0\n",
      "_________________________________________________________________\n"
     ]
    }
   ],
   "source": [
    "e = Embedding(vocab_size, embed_size, weights=[embedding_matrix], input_length=50, trainable=True)\n",
    "num_classes = 13\n",
    "\n",
    "model3 = Sequential()\n",
    "model3.add(e)\n",
    "model3.add(SpatialDropout1D(0.2))\n",
    "model3.add(Bidirectional(CuDNNLSTM(64,return_sequences=True)))\n",
    "#model3.add(Bidirectional(CuDNNLSTM(64,return_sequences=True)))\n",
    "model3.add(Attention(50))  # 50 is the sequence length.\n",
    "model3.add(Dense(256, activation='relu'))\n",
    "model3.add(Dropout(0.25))\n",
    "model3.add(Dense(num_classes, activation=\"softmax\", name=\"Output\"))\n",
    "\n",
    "model3.summary()"
   ]
  },
  {
   "cell_type": "code",
   "execution_count": 0,
   "metadata": {
    "colab": {},
    "colab_type": "code",
    "id": "5riDXM-9PhhV"
   },
   "outputs": [],
   "source": [
    "model3.compile(optimizer=Adam(lr=1e-4),\n",
    "              loss=\"categorical_crossentropy\",\n",
    "              metrics=[\"categorical_accuracy\"])"
   ]
  },
  {
   "cell_type": "code",
   "execution_count": 141,
   "metadata": {
    "colab": {
     "base_uri": "https://localhost:8080/",
     "height": 1000
    },
    "colab_type": "code",
    "id": "UCmejMCYP_xd",
    "outputId": "ef7a775e-af46-4590-a80c-967a374e03ec"
   },
   "outputs": [
    {
     "name": "stdout",
     "output_type": "stream",
     "text": [
      "Train on 44000 samples, validate on 4549 samples\n",
      "Epoch 1/30\n",
      "44000/44000 [==============================] - 12s 265us/step - loss: 1.1657 - categorical_accuracy: 0.6961 - val_loss: 0.7981 - val_categorical_accuracy: 0.7426\n",
      "\n",
      "Epoch 00001: val_loss improved from inf to 0.79815, saving model to attention.h5\n",
      "Epoch 2/30\n",
      "44000/44000 [==============================] - 4s 97us/step - loss: 0.7593 - categorical_accuracy: 0.7724 - val_loss: 0.6800 - val_categorical_accuracy: 0.7960\n",
      "\n",
      "Epoch 00002: val_loss improved from 0.79815 to 0.68000, saving model to attention.h5\n",
      "Epoch 3/30\n",
      "44000/44000 [==============================] - 4s 95us/step - loss: 0.6849 - categorical_accuracy: 0.7958 - val_loss: 0.6346 - val_categorical_accuracy: 0.8024\n",
      "\n",
      "Epoch 00003: val_loss improved from 0.68000 to 0.63462, saving model to attention.h5\n",
      "Epoch 4/30\n",
      "44000/44000 [==============================] - 4s 94us/step - loss: 0.6424 - categorical_accuracy: 0.8050 - val_loss: 0.6018 - val_categorical_accuracy: 0.8085\n",
      "\n",
      "Epoch 00004: val_loss improved from 0.63462 to 0.60185, saving model to attention.h5\n",
      "Epoch 5/30\n",
      "44000/44000 [==============================] - 4s 94us/step - loss: 0.6078 - categorical_accuracy: 0.8113 - val_loss: 0.5762 - val_categorical_accuracy: 0.8140\n",
      "\n",
      "Epoch 00005: val_loss improved from 0.60185 to 0.57618, saving model to attention.h5\n",
      "Epoch 6/30\n",
      "44000/44000 [==============================] - 4s 94us/step - loss: 0.5851 - categorical_accuracy: 0.8189 - val_loss: 0.5614 - val_categorical_accuracy: 0.8189\n",
      "\n",
      "Epoch 00006: val_loss improved from 0.57618 to 0.56143, saving model to attention.h5\n",
      "Epoch 7/30\n",
      "44000/44000 [==============================] - 4s 94us/step - loss: 0.5657 - categorical_accuracy: 0.8225 - val_loss: 0.5530 - val_categorical_accuracy: 0.8197\n",
      "\n",
      "Epoch 00007: val_loss improved from 0.56143 to 0.55298, saving model to attention.h5\n",
      "Epoch 8/30\n",
      "44000/44000 [==============================] - 4s 94us/step - loss: 0.5526 - categorical_accuracy: 0.8252 - val_loss: 0.5373 - val_categorical_accuracy: 0.8261\n",
      "\n",
      "Epoch 00008: val_loss improved from 0.55298 to 0.53726, saving model to attention.h5\n",
      "Epoch 9/30\n",
      "44000/44000 [==============================] - 4s 93us/step - loss: 0.5372 - categorical_accuracy: 0.8298 - val_loss: 0.5293 - val_categorical_accuracy: 0.8301\n",
      "\n",
      "Epoch 00009: val_loss improved from 0.53726 to 0.52931, saving model to attention.h5\n",
      "Epoch 10/30\n",
      "44000/44000 [==============================] - 4s 95us/step - loss: 0.5245 - categorical_accuracy: 0.8326 - val_loss: 0.5439 - val_categorical_accuracy: 0.8250\n",
      "\n",
      "Epoch 00010: val_loss did not improve from 0.52931\n",
      "Epoch 11/30\n",
      "44000/44000 [==============================] - 4s 94us/step - loss: 0.5162 - categorical_accuracy: 0.8365 - val_loss: 0.5166 - val_categorical_accuracy: 0.8338\n",
      "\n",
      "Epoch 00011: val_loss improved from 0.52931 to 0.51657, saving model to attention.h5\n",
      "Epoch 12/30\n",
      "44000/44000 [==============================] - 4s 94us/step - loss: 0.5071 - categorical_accuracy: 0.8375 - val_loss: 0.5078 - val_categorical_accuracy: 0.8362\n",
      "\n",
      "Epoch 00012: val_loss improved from 0.51657 to 0.50778, saving model to attention.h5\n",
      "Epoch 13/30\n",
      "44000/44000 [==============================] - 4s 93us/step - loss: 0.4992 - categorical_accuracy: 0.8399 - val_loss: 0.5171 - val_categorical_accuracy: 0.8338\n",
      "\n",
      "Epoch 00013: val_loss did not improve from 0.50778\n",
      "Epoch 14/30\n",
      "44000/44000 [==============================] - 4s 94us/step - loss: 0.4933 - categorical_accuracy: 0.8416 - val_loss: 0.5020 - val_categorical_accuracy: 0.8375\n",
      "\n",
      "Epoch 00014: val_loss improved from 0.50778 to 0.50198, saving model to attention.h5\n",
      "Epoch 15/30\n",
      "44000/44000 [==============================] - 4s 94us/step - loss: 0.4865 - categorical_accuracy: 0.8417 - val_loss: 0.4946 - val_categorical_accuracy: 0.8400\n",
      "\n",
      "Epoch 00015: val_loss improved from 0.50198 to 0.49465, saving model to attention.h5\n",
      "Epoch 16/30\n",
      "44000/44000 [==============================] - 4s 94us/step - loss: 0.4752 - categorical_accuracy: 0.8459 - val_loss: 0.4908 - val_categorical_accuracy: 0.8435\n",
      "\n",
      "Epoch 00016: val_loss improved from 0.49465 to 0.49078, saving model to attention.h5\n",
      "Epoch 17/30\n",
      "44000/44000 [==============================] - 4s 94us/step - loss: 0.4724 - categorical_accuracy: 0.8461 - val_loss: 0.4899 - val_categorical_accuracy: 0.8428\n",
      "\n",
      "Epoch 00017: val_loss improved from 0.49078 to 0.48986, saving model to attention.h5\n",
      "Epoch 18/30\n",
      "44000/44000 [==============================] - 4s 94us/step - loss: 0.4678 - categorical_accuracy: 0.8470 - val_loss: 0.4872 - val_categorical_accuracy: 0.8430\n",
      "\n",
      "Epoch 00018: val_loss improved from 0.48986 to 0.48724, saving model to attention.h5\n",
      "Epoch 19/30\n",
      "44000/44000 [==============================] - 4s 94us/step - loss: 0.4607 - categorical_accuracy: 0.8503 - val_loss: 0.4885 - val_categorical_accuracy: 0.8433\n",
      "\n",
      "Epoch 00019: val_loss did not improve from 0.48724\n",
      "Epoch 20/30\n",
      "44000/44000 [==============================] - 4s 97us/step - loss: 0.4541 - categorical_accuracy: 0.8511 - val_loss: 0.4864 - val_categorical_accuracy: 0.8450\n",
      "\n",
      "Epoch 00020: val_loss improved from 0.48724 to 0.48636, saving model to attention.h5\n",
      "Epoch 21/30\n",
      "44000/44000 [==============================] - 4s 94us/step - loss: 0.4513 - categorical_accuracy: 0.8536 - val_loss: 0.4791 - val_categorical_accuracy: 0.8461\n",
      "\n",
      "Epoch 00021: val_loss improved from 0.48636 to 0.47912, saving model to attention.h5\n",
      "Epoch 22/30\n",
      "44000/44000 [==============================] - 4s 94us/step - loss: 0.4465 - categorical_accuracy: 0.8537 - val_loss: 0.4756 - val_categorical_accuracy: 0.8485\n",
      "\n",
      "Epoch 00022: val_loss improved from 0.47912 to 0.47558, saving model to attention.h5\n",
      "Epoch 23/30\n",
      "44000/44000 [==============================] - 4s 93us/step - loss: 0.4408 - categorical_accuracy: 0.8552 - val_loss: 0.4750 - val_categorical_accuracy: 0.8468\n",
      "\n",
      "Epoch 00023: val_loss improved from 0.47558 to 0.47498, saving model to attention.h5\n",
      "Epoch 24/30\n",
      "44000/44000 [==============================] - 4s 93us/step - loss: 0.4378 - categorical_accuracy: 0.8565 - val_loss: 0.4805 - val_categorical_accuracy: 0.8479\n",
      "\n",
      "Epoch 00024: val_loss did not improve from 0.47498\n",
      "Epoch 25/30\n",
      "44000/44000 [==============================] - 4s 100us/step - loss: 0.4325 - categorical_accuracy: 0.8579 - val_loss: 0.4753 - val_categorical_accuracy: 0.8492\n",
      "\n",
      "Epoch 00025: val_loss did not improve from 0.47498\n",
      "Epoch 26/30\n",
      "44000/44000 [==============================] - 4s 94us/step - loss: 0.4301 - categorical_accuracy: 0.8582 - val_loss: 0.4744 - val_categorical_accuracy: 0.8474\n",
      "\n",
      "Epoch 00026: val_loss improved from 0.47498 to 0.47437, saving model to attention.h5\n",
      "Epoch 27/30\n",
      "44000/44000 [==============================] - 4s 94us/step - loss: 0.4245 - categorical_accuracy: 0.8585 - val_loss: 0.4699 - val_categorical_accuracy: 0.8488\n",
      "\n",
      "Epoch 00027: val_loss improved from 0.47437 to 0.46990, saving model to attention.h5\n",
      "Epoch 28/30\n",
      "44000/44000 [==============================] - 4s 96us/step - loss: 0.4226 - categorical_accuracy: 0.8598 - val_loss: 0.4715 - val_categorical_accuracy: 0.8492\n",
      "\n",
      "Epoch 00028: val_loss did not improve from 0.46990\n",
      "Epoch 29/30\n",
      "44000/44000 [==============================] - 5s 119us/step - loss: 0.4190 - categorical_accuracy: 0.8604 - val_loss: 0.4684 - val_categorical_accuracy: 0.8485\n",
      "\n",
      "Epoch 00029: val_loss improved from 0.46990 to 0.46841, saving model to attention.h5\n",
      "Epoch 30/30\n",
      "44000/44000 [==============================] - 5s 119us/step - loss: 0.4140 - categorical_accuracy: 0.8621 - val_loss: 0.4692 - val_categorical_accuracy: 0.8499\n",
      "\n",
      "Epoch 00030: val_loss did not improve from 0.46841\n"
     ]
    }
   ],
   "source": [
    "from keras.callbacks import ModelCheckpoint, EarlyStopping, ReduceLROnPlateau\n",
    "\n",
    "filename = 'attention.h5'\n",
    "num_epochs = 30\n",
    "Batch_size = 128\n",
    "\n",
    "es = EarlyStopping(monitor='val_loss', mode='min', baseline=0.2, min_delta=0.0001, patience=30)\n",
    "checkpoint = ModelCheckpoint(filename, monitor='val_loss', verbose=1, save_best_only=True, mode='min')\n",
    "reduce_lr = ReduceLROnPlateau(monitor='val_loss',factor=0.5, patience=5)\n",
    "\n",
    "# fit model\n",
    "hist3 = model3.fit(x_train, y_train, epochs=num_epochs, batch_size=Batch_size, validation_data=(x_val,y_val), \n",
    "                 class_weight=class_weight, callbacks=[es,checkpoint,reduce_lr], verbose=1)"
   ]
  },
  {
   "cell_type": "code",
   "execution_count": 143,
   "metadata": {
    "colab": {
     "base_uri": "https://localhost:8080/",
     "height": 432
    },
    "colab_type": "code",
    "id": "8aR2quCovFpN",
    "outputId": "6c09d5f5-538f-4d57-ab60-f5e3eb5b1d26"
   },
   "outputs": [
    {
     "data": {
      "image/png": "[encoded data removed]",
      "text/plain": [
       "<Figure size 720x504 with 2 Axes>"
      ]
     },
     "metadata": {
      "tags": []
     },
     "output_type": "display_data"
    }
   ],
   "source": [
    "plot_metrics(hist3, num_epochs)"
   ]
  },
  {
   "cell_type": "code",
   "execution_count": 142,
   "metadata": {
    "colab": {
     "base_uri": "https://localhost:8080/",
     "height": 621
    },
    "colab_type": "code",
    "id": "P3YkXSUIhg1X",
    "outputId": "8bcbe54a-2bca-4745-b449-00febbbfc35e"
   },
   "outputs": [
    {
     "data": {
      "image/png": "[encoded data removed]",
      "text/plain": [
       "<Figure size 1080x720 with 2 Axes>"
      ]
     },
     "metadata": {
      "tags": []
     },
     "output_type": "display_data"
    }
   ],
   "source": [
    "y_pred = model3.predict_classes(x_val)\n",
    "\n",
    "plot_confusion_matrix(y_test, y_pred, 13)"
   ]
  },
  {
   "cell_type": "code",
   "execution_count": 0,
   "metadata": {
    "colab": {},
    "colab_type": "code",
    "id": "AsJzIT-BX8D0"
   },
   "outputs": [],
   "source": []
  }
 ],
 "metadata": {
  "accelerator": "GPU",
  "colab": {
   "collapsed_sections": [],
   "name": "Copy of ticket_assgn.ipynb",
   "provenance": [],
   "version": "0.3.2"
  },
  "kernelspec": {
   "display_name": "Python 3",
   "language": "python",
   "name": "python3"
  },
  "language_info": {
   "codemirror_mode": {
    "name": "ipython",
    "version": 3
   },
   "file_extension": ".py",
   "mimetype": "text/x-python",
   "name": "python",
   "nbconvert_exporter": "python",
   "pygments_lexer": "ipython3",
   "version": "3.6.5"
  }
 },
 "nbformat": 4,
 "nbformat_minor": 1
}
