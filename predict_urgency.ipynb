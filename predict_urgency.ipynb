{
 "cells": [
  {
   "cell_type": "markdown",
   "metadata": {},
   "source": [
    "<h1 style=\"font-size:30px;\"> Predicting urgency </h1>\n",
    "\n",
    "<h3> Given the text in ticket predict its urgency. Essentially its a 4 class classification problem. </h3>"
   ]
  },
  {
   "cell_type": "code",
   "execution_count": 0,
   "metadata": {
    "colab": {},
    "colab_type": "code",
    "id": "KOjZdL6JS1zL"
   },
   "outputs": [],
   "source": [
    "import pandas as pd\n",
    "import numpy as np"
   ]
  },
  {
   "cell_type": "markdown",
   "metadata": {
    "colab_type": "text",
    "id": "OuELozkYWLmM"
   },
   "source": [
    "<h2> 1. Data loading </h2>"
   ]
  },
  {
   "cell_type": "code",
   "execution_count": 2,
   "metadata": {
    "colab": {
     "base_uri": "https://localhost:8080/",
     "height": 195
    },
    "colab_type": "code",
    "id": "wTNEkC8gV2yj",
    "outputId": "f6e05d3c-0798-4784-fa6c-4aa513cfe75c"
   },
   "outputs": [
    {
     "data": {
      "text/html": [
       "<div>\n",
       "<style scoped>\n",
       "    .dataframe tbody tr th:only-of-type {\n",
       "        vertical-align: middle;\n",
       "    }\n",
       "\n",
       "    .dataframe tbody tr th {\n",
       "        vertical-align: top;\n",
       "    }\n",
       "\n",
       "    .dataframe thead th {\n",
       "        text-align: right;\n",
       "    }\n",
       "</style>\n",
       "<table border=\"1\" class=\"dataframe\">\n",
       "  <thead>\n",
       "    <tr style=\"text-align: right;\">\n",
       "      <th></th>\n",
       "      <th>title</th>\n",
       "      <th>body</th>\n",
       "      <th>ticket_type</th>\n",
       "      <th>category</th>\n",
       "      <th>sub_category1</th>\n",
       "      <th>sub_category2</th>\n",
       "      <th>business_service</th>\n",
       "      <th>urgency</th>\n",
       "      <th>impact</th>\n",
       "    </tr>\n",
       "  </thead>\n",
       "  <tbody>\n",
       "    <tr>\n",
       "      <th>0</th>\n",
       "      <td>NaN</td>\n",
       "      <td>hi since recruiter lead permission approve req...</td>\n",
       "      <td>1</td>\n",
       "      <td>4</td>\n",
       "      <td>2</td>\n",
       "      <td>21</td>\n",
       "      <td>71</td>\n",
       "      <td>3</td>\n",
       "      <td>4</td>\n",
       "    </tr>\n",
       "    <tr>\n",
       "      <th>1</th>\n",
       "      <td>connection with icon</td>\n",
       "      <td>icon dear please setup icon per icon engineers...</td>\n",
       "      <td>1</td>\n",
       "      <td>6</td>\n",
       "      <td>22</td>\n",
       "      <td>7</td>\n",
       "      <td>26</td>\n",
       "      <td>3</td>\n",
       "      <td>4</td>\n",
       "    </tr>\n",
       "    <tr>\n",
       "      <th>2</th>\n",
       "      <td>work experience user</td>\n",
       "      <td>work experience user hi work experience studen...</td>\n",
       "      <td>1</td>\n",
       "      <td>5</td>\n",
       "      <td>13</td>\n",
       "      <td>7</td>\n",
       "      <td>32</td>\n",
       "      <td>3</td>\n",
       "      <td>4</td>\n",
       "    </tr>\n",
       "    <tr>\n",
       "      <th>3</th>\n",
       "      <td>requesting for meeting</td>\n",
       "      <td>requesting meeting hi please help follow equip...</td>\n",
       "      <td>1</td>\n",
       "      <td>5</td>\n",
       "      <td>13</td>\n",
       "      <td>7</td>\n",
       "      <td>32</td>\n",
       "      <td>3</td>\n",
       "      <td>4</td>\n",
       "    </tr>\n",
       "    <tr>\n",
       "      <th>4</th>\n",
       "      <td>reset passwords for external accounts</td>\n",
       "      <td>re expire days hi ask help update passwords co...</td>\n",
       "      <td>1</td>\n",
       "      <td>4</td>\n",
       "      <td>2</td>\n",
       "      <td>76</td>\n",
       "      <td>4</td>\n",
       "      <td>3</td>\n",
       "      <td>4</td>\n",
       "    </tr>\n",
       "  </tbody>\n",
       "</table>\n",
       "</div>"
      ],
      "text/plain": [
       "                                   title  ... impact\n",
       "0                                    NaN  ...      4\n",
       "1                   connection with icon  ...      4\n",
       "2                   work experience user  ...      4\n",
       "3                 requesting for meeting  ...      4\n",
       "4  reset passwords for external accounts  ...      4\n",
       "\n",
       "[5 rows x 9 columns]"
      ]
     },
     "execution_count": 2,
     "metadata": {
      "tags": []
     },
     "output_type": "execute_result"
    }
   ],
   "source": [
    "fname = \"all_tickets.csv\"\n",
    "\n",
    "df = pd.read_csv(fname)\n",
    "df.head()"
   ]
  },
  {
   "cell_type": "markdown",
   "metadata": {
    "colab_type": "text",
    "id": "P3h16NnoWTfT"
   },
   "source": [
    "<h2> 2. Data preprocessing </h2>\n",
    "\n",
    "**Preprocessing involves:**\n",
    "\n",
    "- Removing numbers & punctuations.\n",
    "- Expanding words to their full form. E.g: \"won't\" >>> \"will not\"\n",
    "- Removing stopwords.\n",
    "- Lemmatizing: Transforming words back to their root form. E.g: \"feet\" >>> \"foot\""
   ]
  },
  {
   "cell_type": "code",
   "execution_count": 0,
   "metadata": {
    "colab": {},
    "colab_type": "code",
    "id": "dHbPgsc-V5Kz"
   },
   "outputs": [],
   "source": [
    "# Importing libraries required for text preprocessing\n",
    "\n",
    "import re    # Regex parsing\n",
    "from nltk.corpus import stopwords   # For stopword removal\n",
    "from nltk.stem import WordNetLemmatizer    # For stemming words\n",
    "\n",
    "stops = stopwords.words(\"english\")\n",
    "lemmatizer = WordNetLemmatizer()\n",
    "\n",
    "# Utilities for text preprocessing\n",
    "def txt_preprocess(x):\n",
    "    \n",
    "    x = str(x).lower()\n",
    "    \n",
    "    # Replacing unwanted texts\n",
    "    x = x.replace(\"′\", \"'\")\n",
    "    x = x.replace(\"’\", \"'\")\n",
    "    x = x.replace(\"won't\", \"will not\")\n",
    "    x = x.replace(\"cannot\", \"can not\")\n",
    "    x = x.replace(\"can't\", \"can not\")\n",
    "    x = x.replace(\"n't\", \" not\")\n",
    "    x = x.replace(\"what's\", \"what is\")\n",
    "    x = x.replace(\"it's\", \"it is\")\n",
    "    x = x.replace(\"'ve\", \" have\")\n",
    "    x = x.replace(\"i'm\", \"i am\")\n",
    "    x = x.replace(\"'re\", \" are\")\n",
    "    x = x.replace(\"he's\", \"he is\")\n",
    "    x = x.replace(\"she's\", \"she is\")\n",
    "    x = x.replace(\"'s\", \" own\")\n",
    "    x = x.replace(\"%\", \" percent \")\n",
    "    x = x.replace(\"'ll\", \" will\")\n",
    "    \n",
    "    # Tokenizing text\n",
    "    words = x.split(\" \")    \n",
    "    # Removing stopwords\n",
    "    words = [word for word in words if word not in stops]\n",
    "    # Lemmatizing words,i.e , replace word with corresponding root word.\n",
    "    words = [lemmatizer.lemmatize(word) for word in words]\n",
    "    # Words containing only alphabets\n",
    "    words = [word for word in words if word.isalpha()]\n",
    "    # Joining the words back\n",
    "    x = (\" \").join(words)\n",
    "    \n",
    "    return x"
   ]
  },
  {
   "cell_type": "code",
   "execution_count": 4,
   "metadata": {
    "colab": {
     "base_uri": "https://localhost:8080/",
     "height": 195
    },
    "colab_type": "code",
    "id": "0pjw7eu8V9l7",
    "outputId": "1dfd5013-f8ba-4706-c7c9-8897c09893fe"
   },
   "outputs": [
    {
     "data": {
      "text/html": [
       "<div>\n",
       "<style scoped>\n",
       "    .dataframe tbody tr th:only-of-type {\n",
       "        vertical-align: middle;\n",
       "    }\n",
       "\n",
       "    .dataframe tbody tr th {\n",
       "        vertical-align: top;\n",
       "    }\n",
       "\n",
       "    .dataframe thead th {\n",
       "        text-align: right;\n",
       "    }\n",
       "</style>\n",
       "<table border=\"1\" class=\"dataframe\">\n",
       "  <thead>\n",
       "    <tr style=\"text-align: right;\">\n",
       "      <th></th>\n",
       "      <th>title</th>\n",
       "      <th>body</th>\n",
       "      <th>ticket_type</th>\n",
       "      <th>category</th>\n",
       "      <th>sub_category1</th>\n",
       "      <th>sub_category2</th>\n",
       "      <th>business_service</th>\n",
       "      <th>urgency</th>\n",
       "      <th>impact</th>\n",
       "    </tr>\n",
       "  </thead>\n",
       "  <tbody>\n",
       "    <tr>\n",
       "      <th>0</th>\n",
       "      <td>NaN</td>\n",
       "      <td>hi since recruiter lead permission approve req...</td>\n",
       "      <td>1</td>\n",
       "      <td>4</td>\n",
       "      <td>2</td>\n",
       "      <td>21</td>\n",
       "      <td>71</td>\n",
       "      <td>3</td>\n",
       "      <td>4</td>\n",
       "    </tr>\n",
       "    <tr>\n",
       "      <th>1</th>\n",
       "      <td>connection with icon</td>\n",
       "      <td>icon dear please setup icon per icon engineer ...</td>\n",
       "      <td>1</td>\n",
       "      <td>6</td>\n",
       "      <td>22</td>\n",
       "      <td>7</td>\n",
       "      <td>26</td>\n",
       "      <td>3</td>\n",
       "      <td>4</td>\n",
       "    </tr>\n",
       "    <tr>\n",
       "      <th>2</th>\n",
       "      <td>work experience user</td>\n",
       "      <td>work experience user hi work experience studen...</td>\n",
       "      <td>1</td>\n",
       "      <td>5</td>\n",
       "      <td>13</td>\n",
       "      <td>7</td>\n",
       "      <td>32</td>\n",
       "      <td>3</td>\n",
       "      <td>4</td>\n",
       "    </tr>\n",
       "    <tr>\n",
       "      <th>3</th>\n",
       "      <td>requesting for meeting</td>\n",
       "      <td>requesting meeting hi please help follow equip...</td>\n",
       "      <td>1</td>\n",
       "      <td>5</td>\n",
       "      <td>13</td>\n",
       "      <td>7</td>\n",
       "      <td>32</td>\n",
       "      <td>3</td>\n",
       "      <td>4</td>\n",
       "    </tr>\n",
       "    <tr>\n",
       "      <th>4</th>\n",
       "      <td>reset passwords for external accounts</td>\n",
       "      <td>expire day hi ask help update password colleag...</td>\n",
       "      <td>1</td>\n",
       "      <td>4</td>\n",
       "      <td>2</td>\n",
       "      <td>76</td>\n",
       "      <td>4</td>\n",
       "      <td>3</td>\n",
       "      <td>4</td>\n",
       "    </tr>\n",
       "  </tbody>\n",
       "</table>\n",
       "</div>"
      ],
      "text/plain": [
       "                                   title  ... impact\n",
       "0                                    NaN  ...      4\n",
       "1                   connection with icon  ...      4\n",
       "2                   work experience user  ...      4\n",
       "3                 requesting for meeting  ...      4\n",
       "4  reset passwords for external accounts  ...      4\n",
       "\n",
       "[5 rows x 9 columns]"
      ]
     },
     "execution_count": 4,
     "metadata": {
      "tags": []
     },
     "output_type": "execute_result"
    }
   ],
   "source": [
    "df[\"body\"] = df[\"body\"].fillna(\"\").apply(txt_preprocess)\n",
    "df.head()"
   ]
  },
  {
   "cell_type": "code",
   "execution_count": 0,
   "metadata": {
    "colab": {},
    "colab_type": "code",
    "id": "SFLEGkcPWBj3"
   },
   "outputs": [],
   "source": [
    "texts = df[\"body\"]\n",
    "labels = pd.get_dummies(df[\"urgency\"]).values"
   ]
  },
  {
   "cell_type": "markdown",
   "metadata": {
    "colab_type": "text",
    "id": "folUY8cUWcaU"
   },
   "source": [
    "<h2> 3. Preparing the data for training </h2>"
   ]
  },
  {
   "cell_type": "markdown",
   "metadata": {
    "colab_type": "text",
    "id": "oH5J9I-YWd4O"
   },
   "source": [
    "<h3> 3.1 Text to integer encodings </h3>\n",
    "\n",
    "Every word in a ticket-text is assigned an integer number."
   ]
  },
  {
   "cell_type": "code",
   "execution_count": 7,
   "metadata": {
    "colab": {
     "base_uri": "https://localhost:8080/",
     "height": 34
    },
    "colab_type": "code",
    "id": "kBjzNQzwWJVv",
    "outputId": "2950ef7b-1759-41ac-86ec-da8b739e3ae6"
   },
   "outputs": [
    {
     "name": "stderr",
     "output_type": "stream",
     "text": [
      "Using TensorFlow backend.\n"
     ]
    }
   ],
   "source": [
    "from keras.preprocessing.text import Tokenizer\n",
    "from keras.preprocessing.sequence import pad_sequences"
   ]
  },
  {
   "cell_type": "code",
   "execution_count": 0,
   "metadata": {
    "colab": {},
    "colab_type": "code",
    "id": "ZYwB3aqxWil7"
   },
   "outputs": [],
   "source": [
    "training_samples = 44000\n",
    "validation_samples = df.shape[0] - training_samples\n",
    "maxlen = 50   # Median length being 20\n",
    "maxwords = 10000"
   ]
  },
  {
   "cell_type": "code",
   "execution_count": 9,
   "metadata": {
    "colab": {
     "base_uri": "https://localhost:8080/",
     "height": 151
    },
    "colab_type": "code",
    "id": "OEvvuEE9WlZr",
    "outputId": "550aef2c-7196-4105-a159-cb6562de573e"
   },
   "outputs": [
    {
     "name": "stdout",
     "output_type": "stream",
     "text": [
      "Found 10486 unique tokens.\n"
     ]
    },
    {
     "data": {
      "text/plain": [
       "array([[   3,  196, 1781, ...,    0,    0,    0],\n",
       "       [ 923,   14,    1, ...,    0,    0,    0],\n",
       "       [  44,  605,   29, ...,    0,    0,    0],\n",
       "       ...,\n",
       "       [   8,   12,   18, ...,    0,    0,    0],\n",
       "       [   8,   12,   18, ...,    0,    0,    0],\n",
       "       [   6,    1,  132, ...,    0,    0,    0]], dtype=int32)"
      ]
     },
     "execution_count": 9,
     "metadata": {
      "tags": []
     },
     "output_type": "execute_result"
    }
   ],
   "source": [
    "tokenizer = Tokenizer(num_words=maxwords)\n",
    "tokenizer.fit_on_texts(texts)\n",
    "sequences = tokenizer.texts_to_sequences(texts)\n",
    "word_index = tokenizer.word_index\n",
    "\n",
    "print('Found %s unique tokens.' % len(word_index))\n",
    "data = pad_sequences(sequences, maxlen=maxlen, padding=\"post\")\n",
    "data"
   ]
  },
  {
   "cell_type": "markdown",
   "metadata": {
    "colab_type": "text",
    "id": "yxH_FgzjWqy0"
   },
   "source": [
    "<h3> 3.2 Preparing the embedding matrix </h3>\n",
    "\n",
    "I would be using GLoVE embeddings(GLobal VEctors) to convert each word into a n-dimensional vector. These vector representations contain co-occurence information,i.e, which words occur in the context or vicinity of another word. In this way they try to capture the meaning of a word, which helps the neural net to **\"learn the meaning\"** of a sentence/document.\n",
    "\n",
    "![alt-text=\"Visualizing embeddings\"](https://s3-ap-south-1.amazonaws.com/av-blog-media/wp-content/uploads/2017/06/06062705/Word-Vectors.png)\n",
    "\n",
    "The file can be downloaded from this link: https://nlp.stanford.edu/projects/glove/"
   ]
  },
  {
   "cell_type": "code",
   "execution_count": 10,
   "metadata": {
    "colab": {
     "base_uri": "https://localhost:8080/",
     "height": 1000
    },
    "colab_type": "code",
    "id": "qb2-qEt9WnZH",
    "outputId": "92341f98-04bf-4533-88de-8b5873eebad4"
   },
   "outputs": [
    {
     "name": "stdout",
     "output_type": "stream",
     "text": [
      "timecard\n",
      "nonrecoverable\n",
      "intr\n",
      "req\n",
      "unapplied\n",
      "unlinking\n",
      "greyed\n",
      "fulfiller\n",
      "receipting\n",
      "locomote\n",
      "cooky\n",
      "msec\n",
      "updaters\n",
      "rcpt\n",
      "qty\n",
      "keyset\n",
      "retries\n",
      "receipted\n",
      "notifier\n",
      "reseat\n",
      "assignat\n",
      "async\n",
      "distr\n",
      "inconsistences\n",
      "convertor\n",
      "inters\n",
      "incase\n",
      "transactor\n",
      "resubmissions\n",
      "sharable\n",
      "promptitude\n",
      "rebill\n",
      "vised\n",
      "allocable\n",
      "reseating\n",
      "homeworker\n",
      "holydays\n",
      "certes\n",
      "celling\n",
      "instr\n",
      "automatize\n",
      "cosec\n",
      "fulfillers\n",
      "engager\n",
      "decapsulate\n",
      "capacitate\n",
      "rejecter\n",
      "mistyping\n",
      "limitative\n",
      "unclarified\n",
      "eely\n",
      "yabber\n",
      "recopy\n",
      "sayst\n",
      "subtask\n",
      "troubleshot\n",
      "scanter\n",
      "vatic\n",
      "connecter\n",
      "reeving\n",
      "itemization\n",
      "automatization\n",
      "recept\n",
      "earnable\n",
      "chestier\n",
      "requestors\n",
      "spited\n",
      "reshaper\n",
      "countersignature\n",
      "coachers\n",
      "staled\n",
      "architecure\n",
      "fetchers\n",
      "deselect\n",
      "plier\n",
      "takeing\n",
      "numerate\n",
      "dumbs\n",
      "etape\n",
      "mktg\n",
      "valuta\n",
      "existents\n",
      "builded\n",
      "sherd\n",
      "accessability\n",
      "mistype\n",
      "surger\n",
      "adverted\n",
      "belows\n",
      "closuring\n",
      "suppler\n",
      "doest\n",
      "bulleting\n",
      "fallowed\n",
      "handwrite\n",
      "transferal\n",
      "automatized\n",
      "resoled\n",
      "pragmatical\n",
      "internality\n",
      "incommode\n",
      "insipidity\n",
      "laten\n",
      "demagnetized\n",
      "trued\n",
      "inutile\n",
      "concatenate\n",
      "roomer\n",
      "snappiness\n",
      "unbind\n",
      "rebind\n",
      "formating\n",
      "curser\n",
      "signalize\n",
      "storying\n",
      "updatable\n",
      "aspirator\n",
      "importable\n",
      "Total absent words are 118 which is 1.13 % of total words\n"
     ]
    }
   ],
   "source": [
    "embedding_dir = parent_dir + \"glove.6B.100d.txt\"\n",
    "embedding_index = dict()  # Key: word, Value: embedding vector\n",
    "\n",
    "# Opening the file containing GLoVe embeddings\n",
    "f = open(embedding_dir, encoding='utf8')\n",
    "\n",
    "for line in f:\n",
    "    values = line.split()\n",
    "    word = values[0]\n",
    "    coefs = np.asarray(values[1:], dtype='float32')\n",
    "    embedding_index[word] = coefs\n",
    "f.close()\n",
    "\n",
    "word_index = tokenizer.word_index\n",
    "vocab_size = len(word_index) + 1\n",
    "embed_size = 100\n",
    "embedding_matrix = np.zeros((vocab_size, embed_size))\n",
    "absent_words = 0\n",
    "\n",
    "for word, i in word_index.items():\n",
    "    embedding_vector = embedding_index.get(word)\n",
    "    if embedding_vector is not None:\n",
    "        # Words not found would be all zeros\n",
    "        embedding_matrix[i] = embedding_vector\n",
    "    else:\n",
    "        print(word)\n",
    "        absent_words += 1\n",
    "        \n",
    "print('Total absent words are', absent_words, 'which is', \n",
    "      \"%0.2f\" % (absent_words * 100 / len(word_index)), '% of total words')"
   ]
  },
  {
   "cell_type": "markdown",
   "metadata": {},
   "source": [
    "**There are 118 words for which no embedding were found , hence they would be represented by all zeros. To cope up for this loss we would set trainable=True in embedding layer, so that eventually during training the network learns semanic meaning of those words.**"
   ]
  },
  {
   "cell_type": "markdown",
   "metadata": {},
   "source": [
    "<h2> 4. Train-Test split </h2>"
   ]
  },
  {
   "cell_type": "code",
   "execution_count": 0,
   "metadata": {
    "colab": {},
    "colab_type": "code",
    "id": "FpJ3LilHWufv"
   },
   "outputs": [],
   "source": [
    "np.random.seed(7)\n",
    "indices = np.arange(data.shape[0])\n",
    "np.random.shuffle(indices)\n",
    "\n",
    "data = data[indices]\n",
    "labels = labels[indices]\n",
    "\n",
    "x_train = data[:training_samples]\n",
    "y_train = labels[:training_samples]\n",
    "x_val = data[training_samples: training_samples + validation_samples]\n",
    "y_val = labels[training_samples: training_samples + validation_samples]"
   ]
  },
  {
   "cell_type": "code",
   "execution_count": 0,
   "metadata": {
    "colab": {},
    "colab_type": "code",
    "id": "VG5B4xJjW0c3"
   },
   "outputs": [],
   "source": [
    "# Sanity check\n",
    "assert(x_train.shape[0] == y_train.shape[0])\n",
    "assert(x_val.shape[0] == y_val.shape[0])"
   ]
  },
  {
   "cell_type": "markdown",
   "metadata": {
    "colab_type": "text",
    "id": "hVGiaPYRW6tT"
   },
   "source": [
    "<h2> 5. Utility functions for performance visualization </h2>"
   ]
  },
  {
   "cell_type": "code",
   "execution_count": 0,
   "metadata": {
    "colab": {},
    "colab_type": "code",
    "id": "5uK_OT1GW3xj"
   },
   "outputs": [],
   "source": [
    "# Importing necessary libraries \n",
    "\n",
    "from sklearn.metrics import confusion_matrix\n",
    "import matplotlib.pyplot as plt\n",
    "import seaborn as sns\n",
    "\n",
    "# This function plots the confusion matrices given y_i, y_i_hat.\n",
    "def plot_confusion_matrix(test_y, predict_y,num_classes):\n",
    "    C = confusion_matrix(test_y, predict_y)\n",
    "    # C = 9,9 matrix, each cell (i,j) represents number of points of class i are predicted class j\n",
    "    \n",
    "    plt.figure(figsize=(7,3))\n",
    "    \n",
    "    labels = [i for i in range(num_classes)]\n",
    "    \n",
    "    # representing A in heatmap format\n",
    "    cmap=sns.light_palette(\"blue\")\n",
    "    sns.heatmap(C, annot=True, cmap=cmap, fmt=\".3f\", xticklabels=labels, yticklabels=labels)\n",
    "    plt.xlabel('Predicted Class')\n",
    "    plt.ylabel('Original Class')\n",
    "    plt.title(\"Confusion matrix\")\n",
    "    \n",
    "    plt.show()"
   ]
  },
  {
   "cell_type": "code",
   "execution_count": 0,
   "metadata": {
    "colab": {},
    "colab_type": "code",
    "id": "nb7m6ZU7XJQb"
   },
   "outputs": [],
   "source": [
    "def plot_metrics(hist, num_epochs):\n",
    "    \"\"\"\n",
    "    Compares accuracy & loss plots.\n",
    "    \"\"\"\n",
    "  acc = hist.history[\"categorical_accuracy\"]\n",
    "  val_acc = hist.history[\"val_categorical_accuracy\"]\n",
    "\n",
    "  loss = hist.history[\"loss\"]\n",
    "  val_loss = hist.history[\"val_loss\"]\n",
    "  \n",
    "  epochs = range(num_epochs)\n",
    "  \n",
    "  plt.figure(figsize=(10,7))\n",
    "  \n",
    "  plt.subplot(1,2,1)\n",
    "  plt.plot(epochs, acc, 'b', label=\"Accuracy\")\n",
    "  plt.plot(epochs, val_acc, 'r', label=\"Validation Accuracy\")\n",
    "  plt.grid()\n",
    "  plt.legend()\n",
    "  \n",
    "  plt.subplot(1,2,2)\n",
    "  plt.plot(epochs, loss, 'b', label=\"Loss\")\n",
    "  plt.plot(epochs, val_loss, 'r', label=\"Validation Loss\")\n",
    "  plt.grid()\n",
    "  plt.legend()  \n",
    "  \n",
    "  plt.show()"
   ]
  },
  {
   "cell_type": "markdown",
   "metadata": {
    "colab_type": "text",
    "id": "0GpQKcsAXDAq"
   },
   "source": [
    "<h2> 6. Finding class weights </h2>"
   ]
  },
  {
   "cell_type": "code",
   "execution_count": 0,
   "metadata": {
    "colab": {},
    "colab_type": "code",
    "id": "u69ojhF9XAVr"
   },
   "outputs": [],
   "source": [
    "def flatten_one_hot(y_true):\n",
    "\n",
    "  labels = []\n",
    "\n",
    "  for one_hot_label in y_true:\n",
    "    labels.append(np.argmax(one_hot_label))\n",
    "\n",
    "  labels = np.array(labels)\n",
    "  return labels"
   ]
  },
  {
   "cell_type": "code",
   "execution_count": 15,
   "metadata": {
    "colab": {
     "base_uri": "https://localhost:8080/",
     "height": 34
    },
    "colab_type": "code",
    "id": "YbuxTZT3XGAr",
    "outputId": "5cc82c69-f0fe-4da7-8773-93ce19203f48"
   },
   "outputs": [
    {
     "data": {
      "text/plain": [
       "array([7.3284477 , 1.79533214, 2.20264317, 0.35056409])"
      ]
     },
     "execution_count": 15,
     "metadata": {
      "tags": []
     },
     "output_type": "execute_result"
    }
   ],
   "source": [
    "from sklearn.utils import class_weight\n",
    "\n",
    "y_train_labels = flatten_one_hot(y_train)\n",
    "class_weight = class_weight.compute_class_weight('balanced', np.unique(y_train_labels), y_train_labels)\n",
    "class_weight"
   ]
  },
  {
   "cell_type": "markdown",
   "metadata": {
    "colab_type": "text",
    "id": "NAUReSfbXSst"
   },
   "source": [
    "<h2> 7. Training models </h2>"
   ]
  },
  {
   "cell_type": "markdown",
   "metadata": {
    "colab_type": "text",
    "id": "Yy-1RCBwXYOa"
   },
   "source": [
    "<h3> 7.1 Using LSTM</h3>"
   ]
  },
  {
   "cell_type": "code",
   "execution_count": 0,
   "metadata": {
    "colab": {},
    "colab_type": "code",
    "id": "CwFgAKwAXPPj"
   },
   "outputs": [],
   "source": [
    "from keras.models import Sequential\n",
    "from keras.layers import Embedding, CuDNNLSTM, Dense, SpatialDropout1D, GlobalMaxPooling1D, Dropout"
   ]
  },
  {
   "cell_type": "code",
   "execution_count": 18,
   "metadata": {
    "colab": {
     "base_uri": "https://localhost:8080/",
     "height": 625
    },
    "colab_type": "code",
    "id": "56hKNpjFXcj3",
    "outputId": "ad322795-0468-4424-8779-bdeb1c57cd48"
   },
   "outputs": [
    {
     "name": "stderr",
     "output_type": "stream",
     "text": [
      "WARNING: Logging before flag parsing goes to stderr.\n",
      "W0720 17:26:28.147691 139794065557376 deprecation_wrapper.py:119] From /usr/local/lib/python3.6/dist-packages/keras/backend/tensorflow_backend.py:74: The name tf.get_default_graph is deprecated. Please use tf.compat.v1.get_default_graph instead.\n",
      "\n",
      "W0720 17:26:28.162376 139794065557376 deprecation_wrapper.py:119] From /usr/local/lib/python3.6/dist-packages/keras/backend/tensorflow_backend.py:517: The name tf.placeholder is deprecated. Please use tf.compat.v1.placeholder instead.\n",
      "\n",
      "W0720 17:26:28.165158 139794065557376 deprecation_wrapper.py:119] From /usr/local/lib/python3.6/dist-packages/keras/backend/tensorflow_backend.py:4138: The name tf.random_uniform is deprecated. Please use tf.random.uniform instead.\n",
      "\n",
      "W0720 17:26:28.174320 139794065557376 deprecation_wrapper.py:119] From /usr/local/lib/python3.6/dist-packages/keras/backend/tensorflow_backend.py:174: The name tf.get_default_session is deprecated. Please use tf.compat.v1.get_default_session instead.\n",
      "\n",
      "W0720 17:26:28.175426 139794065557376 deprecation_wrapper.py:119] From /usr/local/lib/python3.6/dist-packages/keras/backend/tensorflow_backend.py:181: The name tf.ConfigProto is deprecated. Please use tf.compat.v1.ConfigProto instead.\n",
      "\n",
      "W0720 17:26:28.998744 139794065557376 deprecation.py:506] From /usr/local/lib/python3.6/dist-packages/keras/backend/tensorflow_backend.py:3445: calling dropout (from tensorflow.python.ops.nn_ops) with keep_prob is deprecated and will be removed in a future version.\n",
      "Instructions for updating:\n",
      "Please use `rate` instead of `keep_prob`. Rate should be set to `rate = 1 - keep_prob`.\n"
     ]
    },
    {
     "name": "stdout",
     "output_type": "stream",
     "text": [
      "_________________________________________________________________\n",
      "Layer (type)                 Output Shape              Param #   \n",
      "=================================================================\n",
      "embedding_1 (Embedding)      (None, 50, 100)           1048700   \n",
      "_________________________________________________________________\n",
      "spatial_dropout1d_1 (Spatial (None, 50, 100)           0         \n",
      "_________________________________________________________________\n",
      "cu_dnnlstm_1 (CuDNNLSTM)     (None, 50, 64)            42496     \n",
      "_________________________________________________________________\n",
      "global_max_pooling1d_1 (Glob (None, 64)                0         \n",
      "_________________________________________________________________\n",
      "dense_1 (Dense)              (None, 128)               8320      \n",
      "_________________________________________________________________\n",
      "dropout_1 (Dropout)          (None, 128)               0         \n",
      "_________________________________________________________________\n",
      "Output (Dense)               (None, 4)                 516       \n",
      "=================================================================\n",
      "Total params: 1,100,032\n",
      "Trainable params: 1,100,032\n",
      "Non-trainable params: 0\n",
      "_________________________________________________________________\n"
     ]
    }
   ],
   "source": [
    "e = Embedding(vocab_size, embed_size, weights=[embedding_matrix], input_length=50, trainable=True)\n",
    "num_classes = 4\n",
    "\n",
    "model1 = Sequential()\n",
    "model1.add(e)\n",
    "model1.add(SpatialDropout1D(0.2))\n",
    "model1.add(CuDNNLSTM(64, return_sequences=True))\n",
    "model1.add(GlobalMaxPooling1D())\n",
    "model1.add(Dense(128, activation=\"relu\"))\n",
    "model1.add(Dropout(0.25))\n",
    "model1.add(Dense(num_classes, activation=\"softmax\", name=\"Output\"))\n",
    "\n",
    "model1.summary()"
   ]
  },
  {
   "cell_type": "code",
   "execution_count": 19,
   "metadata": {
    "colab": {
     "base_uri": "https://localhost:8080/",
     "height": 70
    },
    "colab_type": "code",
    "id": "17cAs5DXXezD",
    "outputId": "27514087-50ba-49d7-d8f7-fa535fd81c45"
   },
   "outputs": [
    {
     "name": "stderr",
     "output_type": "stream",
     "text": [
      "W0720 17:26:31.787790 139794065557376 deprecation_wrapper.py:119] From /usr/local/lib/python3.6/dist-packages/keras/optimizers.py:790: The name tf.train.Optimizer is deprecated. Please use tf.compat.v1.train.Optimizer instead.\n",
      "\n"
     ]
    }
   ],
   "source": [
    "from keras.optimizers import Adam\n",
    "\n",
    "model1.compile(optimizer=Adam(lr=1e-4),\n",
    "             loss=\"categorical_crossentropy\",\n",
    "             metrics=[\"categorical_accuracy\"])"
   ]
  },
  {
   "cell_type": "code",
   "execution_count": 24,
   "metadata": {
    "colab": {
     "base_uri": "https://localhost:8080/",
     "height": 1000
    },
    "colab_type": "code",
    "id": "Ga3gvQTCXiuz",
    "outputId": "e07ad777-94b0-4d2a-c93c-dba0390cf4e8"
   },
   "outputs": [
    {
     "name": "stdout",
     "output_type": "stream",
     "text": [
      "Train on 44000 samples, validate on 4549 samples\n",
      "Epoch 1/15\n",
      "44000/44000 [==============================] - 3s 69us/step - loss: 0.2527 - categorical_accuracy: 0.8824 - val_loss: 0.2858 - val_categorical_accuracy: 0.8670\n",
      "\n",
      "Epoch 00001: val_loss improved from inf to 0.28577, saving model to baseline.h5\n",
      "Epoch 2/15\n",
      "44000/44000 [==============================] - 3s 59us/step - loss: 0.2510 - categorical_accuracy: 0.8830 - val_loss: 0.2906 - val_categorical_accuracy: 0.8679\n",
      "\n",
      "Epoch 00002: val_loss did not improve from 0.28577\n",
      "Epoch 3/15\n",
      "44000/44000 [==============================] - 3s 59us/step - loss: 0.2492 - categorical_accuracy: 0.8838 - val_loss: 0.2897 - val_categorical_accuracy: 0.8683\n",
      "\n",
      "Epoch 00003: val_loss did not improve from 0.28577\n",
      "Epoch 4/15\n",
      "44000/44000 [==============================] - 3s 59us/step - loss: 0.2484 - categorical_accuracy: 0.8847 - val_loss: 0.2902 - val_categorical_accuracy: 0.8696\n",
      "\n",
      "Epoch 00004: val_loss did not improve from 0.28577\n",
      "Epoch 5/15\n",
      "44000/44000 [==============================] - 3s 59us/step - loss: 0.2453 - categorical_accuracy: 0.8860 - val_loss: 0.2928 - val_categorical_accuracy: 0.8677\n",
      "\n",
      "Epoch 00005: val_loss did not improve from 0.28577\n",
      "Epoch 6/15\n",
      "44000/44000 [==============================] - 3s 60us/step - loss: 0.2433 - categorical_accuracy: 0.8883 - val_loss: 0.2909 - val_categorical_accuracy: 0.8661\n",
      "\n",
      "Epoch 00006: val_loss did not improve from 0.28577\n",
      "Epoch 7/15\n",
      "44000/44000 [==============================] - 3s 58us/step - loss: 0.2413 - categorical_accuracy: 0.8879 - val_loss: 0.2901 - val_categorical_accuracy: 0.8679\n",
      "\n",
      "Epoch 00007: val_loss did not improve from 0.28577\n",
      "Epoch 8/15\n",
      "44000/44000 [==============================] - 3s 59us/step - loss: 0.2412 - categorical_accuracy: 0.8888 - val_loss: 0.2933 - val_categorical_accuracy: 0.8679\n",
      "\n",
      "Epoch 00008: val_loss did not improve from 0.28577\n",
      "Epoch 9/15\n",
      "44000/44000 [==============================] - 3s 59us/step - loss: 0.2399 - categorical_accuracy: 0.8889 - val_loss: 0.2932 - val_categorical_accuracy: 0.8692\n",
      "\n",
      "Epoch 00009: val_loss did not improve from 0.28577\n",
      "Epoch 10/15\n",
      "44000/44000 [==============================] - 3s 60us/step - loss: 0.2395 - categorical_accuracy: 0.8889 - val_loss: 0.2961 - val_categorical_accuracy: 0.8703\n",
      "\n",
      "Epoch 00010: val_loss did not improve from 0.28577\n",
      "Epoch 11/15\n",
      "44000/44000 [==============================] - 3s 59us/step - loss: 0.2389 - categorical_accuracy: 0.8902 - val_loss: 0.2947 - val_categorical_accuracy: 0.8714\n",
      "\n",
      "Epoch 00011: val_loss did not improve from 0.28577\n",
      "Epoch 12/15\n",
      "44000/44000 [==============================] - 3s 60us/step - loss: 0.2373 - categorical_accuracy: 0.8914 - val_loss: 0.2919 - val_categorical_accuracy: 0.8707\n",
      "\n",
      "Epoch 00012: val_loss did not improve from 0.28577\n",
      "Epoch 13/15\n",
      "44000/44000 [==============================] - 3s 59us/step - loss: 0.2372 - categorical_accuracy: 0.8918 - val_loss: 0.2939 - val_categorical_accuracy: 0.8705\n",
      "\n",
      "Epoch 00013: val_loss did not improve from 0.28577\n",
      "Epoch 14/15\n",
      "44000/44000 [==============================] - 3s 59us/step - loss: 0.2378 - categorical_accuracy: 0.8909 - val_loss: 0.2940 - val_categorical_accuracy: 0.8699\n",
      "\n",
      "Epoch 00014: val_loss did not improve from 0.28577\n",
      "Epoch 15/15\n",
      "44000/44000 [==============================] - 3s 59us/step - loss: 0.2374 - categorical_accuracy: 0.8912 - val_loss: 0.2941 - val_categorical_accuracy: 0.8705\n",
      "\n",
      "Epoch 00015: val_loss did not improve from 0.28577\n",
      "Epoch 00015: early stopping\n"
     ]
    }
   ],
   "source": [
    "from keras.callbacks import ModelCheckpoint, EarlyStopping, ReduceLROnPlateau\n",
    "\n",
    "filename = 'baseline.h5'\n",
    "num_epochs = 15\n",
    "Batch_size = 128\n",
    "\n",
    "es = EarlyStopping(monitor='val_loss', mode='min', baseline=0.2, verbose=1, patience=15)\n",
    "checkpoint = ModelCheckpoint(filename, monitor='val_loss', verbose=1, save_best_only=True, mode='min')\n",
    "reduce_lr = ReduceLROnPlateau(monitor='val_loss',factor=0.5, patience=5)\n",
    "\n",
    "# fit model\n",
    "hist1 = model1.fit(x_train, y_train, epochs=num_epochs, batch_size=Batch_size, validation_data=(x_val,y_val), \n",
    "                 callbacks=[es,checkpoint,reduce_lr], verbose=1)"
   ]
  },
  {
   "cell_type": "code",
   "execution_count": 27,
   "metadata": {
    "colab": {
     "base_uri": "https://localhost:8080/",
     "height": 241
    },
    "colab_type": "code",
    "id": "cWAY4QGiYUm3",
    "outputId": "05a7d54c-b0d8-43bf-b13b-1908efa2f98a"
   },
   "outputs": [
    {
     "data": {
      "image/png": "[encoded data removed]",
      "text/plain": [
       "<Figure size 504x216 with 2 Axes>"
      ]
     },
     "metadata": {
      "tags": []
     },
     "output_type": "display_data"
    }
   ],
   "source": [
    "y_pred = model1.predict_classes(x_val)\n",
    "y_test = flatten_one_hot(y_val)\n",
    "\n",
    "plot_confusion_matrix(y_test, y_pred, 4)"
   ]
  },
  {
   "cell_type": "code",
   "execution_count": 26,
   "metadata": {
    "colab": {
     "base_uri": "https://localhost:8080/",
     "height": 432
    },
    "colab_type": "code",
    "id": "Js1holEYZD_L",
    "outputId": "31dd55b2-2a4f-442f-a9e3-a748c0fa9661"
   },
   "outputs": [
    {
     "data": {
      "image/png": "[encoded data removed]",
      "text/plain": [
       "<Figure size 720x504 with 2 Axes>"
      ]
     },
     "metadata": {
      "tags": []
     },
     "output_type": "display_data"
    }
   ],
   "source": [
    "plot_metrics(hist1, num_epochs)"
   ]
  },
  {
   "cell_type": "markdown",
   "metadata": {
    "colab_type": "text",
    "id": "_tzTvjttcDK_"
   },
   "source": [
    "<h2> 7.2 Using Attention </h2>\n",
    "\n",
    "A brief description of what attention does is : \"Attention allows the model to focus on the relevant parts of the input sequence as needed.\"\n",
    "\n",
    "![alt-text=\"Visualizing attention\"](https://pic4.zhimg.com/v2-a2db0687ce55dcd2324e00851dd0426c_1200x500.jpg)\n",
    "\n",
    "For more info one can visit this link: https://jalammar.github.io/visualizing-neural-machine-translation-mechanics-of-seq2seq-models-with-attention/ .\n",
    "It contains a wonderful visual description of how attention works in case of mchine translation.\n",
    "\n",
    "The following code from Attention class has been **stolen** from https://www.kaggle.com/suicaokhoailang/lstm-attention-baseline-0-672-lb."
   ]
  },
  {
   "cell_type": "code",
   "execution_count": 0,
   "metadata": {
    "colab": {},
    "colab_type": "code",
    "id": "CPVE7D8YZUUz"
   },
   "outputs": [],
   "source": [
    "from keras.models import Sequential,Model\n",
    "from keras.layers import CuDNNLSTM, Dense, Bidirectional, Input,Dropout\n",
    "\n",
    "from keras import backend as K\n",
    "from keras.engine.topology import Layer\n",
    "from keras import initializers, regularizers, constraints"
   ]
  },
  {
   "cell_type": "code",
   "execution_count": 0,
   "metadata": {
    "colab": {},
    "colab_type": "code",
    "id": "xxRN3DCecH35"
   },
   "outputs": [],
   "source": [
    "# https://www.kaggle.com/qqgeogor/keras-lstm-attention-glove840b-lb-0-043\n",
    "class Attention(Layer):\n",
    "    def __init__(self, step_dim,\n",
    "                 W_regularizer=None, b_regularizer=None,\n",
    "                 W_constraint=None, b_constraint=None,\n",
    "                 bias=True, **kwargs):\n",
    "        self.supports_masking = True\n",
    "        self.init = initializers.get('glorot_uniform')\n",
    "\n",
    "        self.W_regularizer = regularizers.get(W_regularizer)\n",
    "        self.b_regularizer = regularizers.get(b_regularizer)\n",
    "\n",
    "        self.W_constraint = constraints.get(W_constraint)\n",
    "        self.b_constraint = constraints.get(b_constraint)\n",
    "\n",
    "        self.bias = bias\n",
    "        self.step_dim = step_dim\n",
    "        self.features_dim = 0\n",
    "        super(Attention, self).__init__(**kwargs)\n",
    "\n",
    "    def build(self, input_shape):\n",
    "        assert len(input_shape) == 3\n",
    "\n",
    "        self.W = self.add_weight((input_shape[-1],),\n",
    "                                 initializer=self.init,\n",
    "                                 name='{}_W'.format(self.name),\n",
    "                                 regularizer=self.W_regularizer,\n",
    "                                 constraint=self.W_constraint)\n",
    "        self.features_dim = input_shape[-1]\n",
    "\n",
    "        if self.bias:\n",
    "            self.b = self.add_weight((input_shape[1],),\n",
    "                                     initializer='zero',\n",
    "                                     name='{}_b'.format(self.name),\n",
    "                                     regularizer=self.b_regularizer,\n",
    "                                     constraint=self.b_constraint)\n",
    "        else:\n",
    "            self.b = None\n",
    "\n",
    "        self.built = True\n",
    "\n",
    "    def compute_mask(self, input, input_mask=None):\n",
    "        return None\n",
    "    \n",
    "    def call(self, x, mask=None):\n",
    "        features_dim = self.features_dim\n",
    "        step_dim = self.step_dim\n",
    "\n",
    "        eij = K.reshape(K.dot(K.reshape(x, (-1, features_dim)),\n",
    "                        K.reshape(self.W, (features_dim, 1))), (-1, step_dim))\n",
    "\n",
    "        if self.bias:\n",
    "            eij += self.b\n",
    "\n",
    "        eij = K.tanh(eij)\n",
    "\n",
    "        a = K.exp(eij)\n",
    "\n",
    "        if mask is not None:\n",
    "            a *= K.cast(mask, K.floatx())\n",
    "\n",
    "        a /= K.cast(K.sum(a, axis=1, keepdims=True) + K.epsilon(), K.floatx())\n",
    "\n",
    "        a = K.expand_dims(a)\n",
    "        weighted_input = x * a\n",
    "        return K.sum(weighted_input, axis=1)\n",
    "\n",
    "    def compute_output_shape(self, input_shape):\n",
    "        return input_shape[0],  self.features_dim"
   ]
  },
  {
   "cell_type": "code",
   "execution_count": 33,
   "metadata": {
    "colab": {
     "base_uri": "https://localhost:8080/",
     "height": 403
    },
    "colab_type": "code",
    "id": "DRmeo1vpcKJ3",
    "outputId": "0a131327-760f-43b9-997b-9322bfc1da05"
   },
   "outputs": [
    {
     "name": "stdout",
     "output_type": "stream",
     "text": [
      "_________________________________________________________________\n",
      "Layer (type)                 Output Shape              Param #   \n",
      "=================================================================\n",
      "embedding_3 (Embedding)      (None, 50, 100)           1048700   \n",
      "_________________________________________________________________\n",
      "spatial_dropout1d_3 (Spatial (None, 50, 100)           0         \n",
      "_________________________________________________________________\n",
      "bidirectional_2 (Bidirection (None, 50, 128)           84992     \n",
      "_________________________________________________________________\n",
      "bidirectional_3 (Bidirection (None, 50, 128)           99328     \n",
      "_________________________________________________________________\n",
      "attention_2 (Attention)      (None, 128)               178       \n",
      "_________________________________________________________________\n",
      "dense_3 (Dense)              (None, 256)               33024     \n",
      "_________________________________________________________________\n",
      "dropout_3 (Dropout)          (None, 256)               0         \n",
      "_________________________________________________________________\n",
      "Output (Dense)               (None, 4)                 1028      \n",
      "=================================================================\n",
      "Total params: 1,267,250\n",
      "Trainable params: 1,267,250\n",
      "Non-trainable params: 0\n",
      "_________________________________________________________________\n"
     ]
    }
   ],
   "source": [
    "e = Embedding(vocab_size, embed_size, weights=[embedding_matrix], input_length=50, trainable=True)\n",
    "num_classes = 4\n",
    "\n",
    "model3 = Sequential()\n",
    "model3.add(e)\n",
    "model3.add(SpatialDropout1D(0.2))\n",
    "model3.add(Bidirectional(CuDNNLSTM(64,return_sequences=True)))\n",
    "model3.add(Bidirectional(CuDNNLSTM(64,return_sequences=True)))\n",
    "model3.add(Attention(50))  # 50 is the sequence length.\n",
    "model3.add(Dense(256, activation='relu'))\n",
    "model3.add(Dropout(0.25))\n",
    "model3.add(Dense(num_classes, activation=\"softmax\", name=\"Output\"))\n",
    "\n",
    "model3.summary()"
   ]
  },
  {
   "cell_type": "code",
   "execution_count": 0,
   "metadata": {
    "colab": {},
    "colab_type": "code",
    "id": "rzdYqsrncPrH"
   },
   "outputs": [],
   "source": [
    "model3.compile(optimizer=Adam(lr=1e-4),\n",
    "              loss=\"categorical_crossentropy\",\n",
    "              metrics=[\"categorical_accuracy\"])"
   ]
  },
  {
   "cell_type": "code",
   "execution_count": 36,
   "metadata": {
    "colab": {
     "base_uri": "https://localhost:8080/",
     "height": 1000
    },
    "colab_type": "code",
    "id": "RvJIvBJqcSX-",
    "outputId": "490801a6-0101-4f15-eca3-4cc27d419b38"
   },
   "outputs": [
    {
     "name": "stdout",
     "output_type": "stream",
     "text": [
      "Train on 44000 samples, validate on 4549 samples\n",
      "Epoch 1/20\n",
      "44000/44000 [==============================] - 6s 145us/step - loss: 0.2805 - categorical_accuracy: 0.8688 - val_loss: 0.3027 - val_categorical_accuracy: 0.8578\n",
      "\n",
      "Epoch 00001: val_loss improved from inf to 0.30275, saving model to attention.h5\n",
      "Epoch 2/20\n",
      "44000/44000 [==============================] - 6s 140us/step - loss: 0.2805 - categorical_accuracy: 0.8675 - val_loss: 0.3189 - val_categorical_accuracy: 0.8578\n",
      "\n",
      "Epoch 00002: val_loss did not improve from 0.30275\n",
      "Epoch 3/20\n",
      "44000/44000 [==============================] - 6s 140us/step - loss: 0.2758 - categorical_accuracy: 0.8709 - val_loss: 0.2966 - val_categorical_accuracy: 0.8611\n",
      "\n",
      "Epoch 00003: val_loss improved from 0.30275 to 0.29660, saving model to attention.h5\n",
      "Epoch 4/20\n",
      "44000/44000 [==============================] - 6s 140us/step - loss: 0.2738 - categorical_accuracy: 0.8704 - val_loss: 0.2975 - val_categorical_accuracy: 0.8600\n",
      "\n",
      "Epoch 00004: val_loss did not improve from 0.29660\n",
      "Epoch 5/20\n",
      "44000/44000 [==============================] - 6s 141us/step - loss: 0.2718 - categorical_accuracy: 0.8737 - val_loss: 0.2978 - val_categorical_accuracy: 0.8608\n",
      "\n",
      "Epoch 00005: val_loss did not improve from 0.29660\n",
      "Epoch 6/20\n",
      "44000/44000 [==============================] - 6s 141us/step - loss: 0.2696 - categorical_accuracy: 0.8744 - val_loss: 0.2966 - val_categorical_accuracy: 0.8611\n",
      "\n",
      "Epoch 00006: val_loss improved from 0.29660 to 0.29656, saving model to attention.h5\n",
      "Epoch 7/20\n",
      "44000/44000 [==============================] - 6s 140us/step - loss: 0.2688 - categorical_accuracy: 0.8744 - val_loss: 0.2977 - val_categorical_accuracy: 0.8641\n",
      "\n",
      "Epoch 00007: val_loss did not improve from 0.29656\n",
      "Epoch 8/20\n",
      "44000/44000 [==============================] - 6s 140us/step - loss: 0.2645 - categorical_accuracy: 0.8770 - val_loss: 0.3062 - val_categorical_accuracy: 0.8639\n",
      "\n",
      "Epoch 00008: val_loss did not improve from 0.29656\n",
      "Epoch 9/20\n",
      "44000/44000 [==============================] - 6s 140us/step - loss: 0.2611 - categorical_accuracy: 0.8770 - val_loss: 0.2967 - val_categorical_accuracy: 0.8646\n",
      "\n",
      "Epoch 00009: val_loss did not improve from 0.29656\n",
      "Epoch 10/20\n",
      "44000/44000 [==============================] - 6s 138us/step - loss: 0.2597 - categorical_accuracy: 0.8790 - val_loss: 0.2935 - val_categorical_accuracy: 0.8659\n",
      "\n",
      "Epoch 00010: val_loss improved from 0.29656 to 0.29345, saving model to attention.h5\n",
      "Epoch 11/20\n",
      "44000/44000 [==============================] - 6s 139us/step - loss: 0.2597 - categorical_accuracy: 0.8784 - val_loss: 0.2919 - val_categorical_accuracy: 0.8663\n",
      "\n",
      "Epoch 00011: val_loss improved from 0.29345 to 0.29192, saving model to attention.h5\n",
      "Epoch 12/20\n",
      "44000/44000 [==============================] - 6s 139us/step - loss: 0.2593 - categorical_accuracy: 0.8790 - val_loss: 0.2989 - val_categorical_accuracy: 0.8663\n",
      "\n",
      "Epoch 00012: val_loss did not improve from 0.29192\n",
      "Epoch 13/20\n",
      "44000/44000 [==============================] - 6s 138us/step - loss: 0.2562 - categorical_accuracy: 0.8808 - val_loss: 0.2946 - val_categorical_accuracy: 0.8650\n",
      "\n",
      "Epoch 00013: val_loss did not improve from 0.29192\n",
      "Epoch 14/20\n",
      "44000/44000 [==============================] - 6s 139us/step - loss: 0.2564 - categorical_accuracy: 0.8803 - val_loss: 0.2908 - val_categorical_accuracy: 0.8652\n",
      "\n",
      "Epoch 00014: val_loss improved from 0.29192 to 0.29077, saving model to attention.h5\n",
      "Epoch 15/20\n",
      "44000/44000 [==============================] - 6s 139us/step - loss: 0.2549 - categorical_accuracy: 0.8810 - val_loss: 0.2970 - val_categorical_accuracy: 0.8663\n",
      "\n",
      "Epoch 00015: val_loss did not improve from 0.29077\n",
      "Epoch 16/20\n",
      "44000/44000 [==============================] - 6s 140us/step - loss: 0.2536 - categorical_accuracy: 0.8822 - val_loss: 0.2914 - val_categorical_accuracy: 0.8688\n",
      "\n",
      "Epoch 00016: val_loss did not improve from 0.29077\n",
      "Epoch 17/20\n",
      "44000/44000 [==============================] - 6s 139us/step - loss: 0.2524 - categorical_accuracy: 0.8820 - val_loss: 0.2938 - val_categorical_accuracy: 0.8679\n",
      "\n",
      "Epoch 00017: val_loss did not improve from 0.29077\n",
      "Epoch 18/20\n",
      "44000/44000 [==============================] - 6s 140us/step - loss: 0.2503 - categorical_accuracy: 0.8838 - val_loss: 0.2935 - val_categorical_accuracy: 0.8666\n",
      "\n",
      "Epoch 00018: val_loss did not improve from 0.29077\n",
      "Epoch 19/20\n",
      "44000/44000 [==============================] - 6s 140us/step - loss: 0.2517 - categorical_accuracy: 0.8820 - val_loss: 0.2927 - val_categorical_accuracy: 0.8657\n",
      "\n",
      "Epoch 00019: val_loss did not improve from 0.29077\n",
      "Epoch 20/20\n",
      "44000/44000 [==============================] - 6s 140us/step - loss: 0.2499 - categorical_accuracy: 0.8839 - val_loss: 0.2939 - val_categorical_accuracy: 0.8674\n",
      "\n",
      "Epoch 00020: val_loss did not improve from 0.29077\n"
     ]
    }
   ],
   "source": [
    "from keras.callbacks import ModelCheckpoint, EarlyStopping, ReduceLROnPlateau\n",
    "\n",
    "filename = 'attention.h5'\n",
    "num_epochs = 20\n",
    "Batch_size = 128\n",
    "\n",
    "es = EarlyStopping(monitor='val_loss', mode='min', baseline=0.2, min_delta=0.0001, patience=20)\n",
    "checkpoint = ModelCheckpoint(filename, monitor='val_loss', verbose=1, save_best_only=True, mode='min')\n",
    "reduce_lr = ReduceLROnPlateau(monitor='val_loss',factor=0.5, patience=5)\n",
    "\n",
    "# fit model\n",
    "hist3 = model3.fit(x_train, y_train, epochs=num_epochs, batch_size=Batch_size, validation_data=(x_val,y_val), \n",
    "                 class_weight=class_weight, callbacks=[es,checkpoint,reduce_lr], verbose=1)"
   ]
  },
  {
   "cell_type": "code",
   "execution_count": 38,
   "metadata": {
    "colab": {
     "base_uri": "https://localhost:8080/",
     "height": 432
    },
    "colab_type": "code",
    "id": "4orKNI3kcw-l",
    "outputId": "ff497bc4-c132-46ee-eebd-511b239c1d2f"
   },
   "outputs": [
    {
     "data": {
      "image/png": "[encoded data removed]",
      "text/plain": [
       "<Figure size 720x504 with 2 Axes>"
      ]
     },
     "metadata": {
      "tags": []
     },
     "output_type": "display_data"
    }
   ],
   "source": [
    "plot_metrics(hist3, num_epochs)"
   ]
  },
  {
   "cell_type": "code",
   "execution_count": 40,
   "metadata": {
    "colab": {
     "base_uri": "https://localhost:8080/",
     "height": 241
    },
    "colab_type": "code",
    "id": "twIfcxw3cW6j",
    "outputId": "4b83ec50-71c1-4cab-8000-22140661779c"
   },
   "outputs": [
    {
     "data": {
      "image/png": "[encoded data removed]",
      "text/plain": [
       "<Figure size 504x216 with 2 Axes>"
      ]
     },
     "metadata": {
      "tags": []
     },
     "output_type": "display_data"
    }
   ],
   "source": [
    "y_pred = model3.predict_classes(x_val)\n",
    "\n",
    "plot_confusion_matrix(y_test, y_pred, 4)"
   ]
  },
  {
   "cell_type": "code",
   "execution_count": 0,
   "metadata": {
    "colab": {},
    "colab_type": "code",
    "id": "a4hM_B0Wdzfc"
   },
   "outputs": [],
   "source": []
  }
 ],
 "metadata": {
  "accelerator": "GPU",
  "colab": {
   "name": "predict_urgency.ipynb",
   "provenance": [],
   "version": "0.3.2"
  },
  "kernelspec": {
   "display_name": "Python 3",
   "language": "python",
   "name": "python3"
  },
  "language_info": {
   "codemirror_mode": {
    "name": "ipython",
    "version": 3
   },
   "file_extension": ".py",
   "mimetype": "text/x-python",
   "name": "python",
   "nbconvert_exporter": "python",
   "pygments_lexer": "ipython3",
   "version": "3.6.5"
  }
 },
 "nbformat": 4,
 "nbformat_minor": 1
}
