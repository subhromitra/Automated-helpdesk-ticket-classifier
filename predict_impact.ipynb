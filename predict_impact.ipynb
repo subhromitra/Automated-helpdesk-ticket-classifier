{
 "cells": [
  {
   "cell_type": "markdown",
   "metadata": {},
   "source": [
    "<h1 style = \"font-size:30px;\"> Predicting impact </h1>\n",
    "\n",
    "<h3> Given the text in ticket predict its category. Essentially its a 5 class classification problem. </h3>"
   ]
  },
  {
   "cell_type": "code",
   "execution_count": 0,
   "metadata": {
    "colab": {},
    "colab_type": "code",
    "id": "KOjZdL6JS1zL"
   },
   "outputs": [],
   "source": [
    "import pandas as pd\n",
    "import numpy as np"
   ]
  },
  {
   "cell_type": "markdown",
   "metadata": {
    "colab_type": "text",
    "id": "OuELozkYWLmM"
   },
   "source": [
    "<h2> 1. Data loading </h2>"
   ]
  },
  {
   "cell_type": "code",
   "execution_count": 2,
   "metadata": {
    "colab": {
     "base_uri": "https://localhost:8080/",
     "height": 195
    },
    "colab_type": "code",
    "id": "wTNEkC8gV2yj",
    "outputId": "f2b2cdc4-bddc-4f57-874c-617d8a747fc0"
   },
   "outputs": [
    {
     "data": {
      "text/html": [
       "<div>\n",
       "<style scoped>\n",
       "    .dataframe tbody tr th:only-of-type {\n",
       "        vertical-align: middle;\n",
       "    }\n",
       "\n",
       "    .dataframe tbody tr th {\n",
       "        vertical-align: top;\n",
       "    }\n",
       "\n",
       "    .dataframe thead th {\n",
       "        text-align: right;\n",
       "    }\n",
       "</style>\n",
       "<table border=\"1\" class=\"dataframe\">\n",
       "  <thead>\n",
       "    <tr style=\"text-align: right;\">\n",
       "      <th></th>\n",
       "      <th>title</th>\n",
       "      <th>body</th>\n",
       "      <th>ticket_type</th>\n",
       "      <th>category</th>\n",
       "      <th>sub_category1</th>\n",
       "      <th>sub_category2</th>\n",
       "      <th>business_service</th>\n",
       "      <th>urgency</th>\n",
       "      <th>impact</th>\n",
       "    </tr>\n",
       "  </thead>\n",
       "  <tbody>\n",
       "    <tr>\n",
       "      <th>0</th>\n",
       "      <td>NaN</td>\n",
       "      <td>hi since recruiter lead permission approve req...</td>\n",
       "      <td>1</td>\n",
       "      <td>4</td>\n",
       "      <td>2</td>\n",
       "      <td>21</td>\n",
       "      <td>71</td>\n",
       "      <td>3</td>\n",
       "      <td>4</td>\n",
       "    </tr>\n",
       "    <tr>\n",
       "      <th>1</th>\n",
       "      <td>connection with icon</td>\n",
       "      <td>icon dear please setup icon per icon engineers...</td>\n",
       "      <td>1</td>\n",
       "      <td>6</td>\n",
       "      <td>22</td>\n",
       "      <td>7</td>\n",
       "      <td>26</td>\n",
       "      <td>3</td>\n",
       "      <td>4</td>\n",
       "    </tr>\n",
       "    <tr>\n",
       "      <th>2</th>\n",
       "      <td>work experience user</td>\n",
       "      <td>work experience user hi work experience studen...</td>\n",
       "      <td>1</td>\n",
       "      <td>5</td>\n",
       "      <td>13</td>\n",
       "      <td>7</td>\n",
       "      <td>32</td>\n",
       "      <td>3</td>\n",
       "      <td>4</td>\n",
       "    </tr>\n",
       "    <tr>\n",
       "      <th>3</th>\n",
       "      <td>requesting for meeting</td>\n",
       "      <td>requesting meeting hi please help follow equip...</td>\n",
       "      <td>1</td>\n",
       "      <td>5</td>\n",
       "      <td>13</td>\n",
       "      <td>7</td>\n",
       "      <td>32</td>\n",
       "      <td>3</td>\n",
       "      <td>4</td>\n",
       "    </tr>\n",
       "    <tr>\n",
       "      <th>4</th>\n",
       "      <td>reset passwords for external accounts</td>\n",
       "      <td>re expire days hi ask help update passwords co...</td>\n",
       "      <td>1</td>\n",
       "      <td>4</td>\n",
       "      <td>2</td>\n",
       "      <td>76</td>\n",
       "      <td>4</td>\n",
       "      <td>3</td>\n",
       "      <td>4</td>\n",
       "    </tr>\n",
       "  </tbody>\n",
       "</table>\n",
       "</div>"
      ],
      "text/plain": [
       "                                   title  ... impact\n",
       "0                                    NaN  ...      4\n",
       "1                   connection with icon  ...      4\n",
       "2                   work experience user  ...      4\n",
       "3                 requesting for meeting  ...      4\n",
       "4  reset passwords for external accounts  ...      4\n",
       "\n",
       "[5 rows x 9 columns]"
      ]
     },
     "execution_count": 2,
     "metadata": {
      "tags": []
     },
     "output_type": "execute_result"
    }
   ],
   "source": [
    "fname = \"all_tickets.csv\"\n",
    "\n",
    "df = pd.read_csv(fname)\n",
    "df.head()"
   ]
  },
  {
   "cell_type": "markdown",
   "metadata": {
    "colab_type": "text",
    "id": "P3h16NnoWTfT"
   },
   "source": [
    "<h2> 2. Data preprocessing </h2>"
   ]
  },
  {
   "cell_type": "code",
   "execution_count": 0,
   "metadata": {
    "colab": {},
    "colab_type": "code",
    "id": "dHbPgsc-V5Kz"
   },
   "outputs": [],
   "source": [
    "# Importing libraries required for text preprocessing\n",
    "\n",
    "import re    # Regex parsing\n",
    "from nltk.corpus import stopwords   # For stopword removal\n",
    "from nltk.stem import WordNetLemmatizer    # For stemming words\n",
    "\n",
    "stops = stopwords.words(\"english\")\n",
    "lemmatizer = WordNetLemmatizer()\n",
    "\n",
    "# Utilities for text preprocessing\n",
    "def txt_preprocess(x):\n",
    "    \n",
    "    x = str(x).lower()\n",
    "    \n",
    "    # Replacing unwanted texts\n",
    "    x = x.replace(\"′\", \"'\")\n",
    "    x = x.replace(\"’\", \"'\")\n",
    "    x = x.replace(\"won't\", \"will not\")\n",
    "    x = x.replace(\"cannot\", \"can not\")\n",
    "    x = x.replace(\"can't\", \"can not\")\n",
    "    x = x.replace(\"n't\", \" not\")\n",
    "    x = x.replace(\"what's\", \"what is\")\n",
    "    x = x.replace(\"it's\", \"it is\")\n",
    "    x = x.replace(\"'ve\", \" have\")\n",
    "    x = x.replace(\"i'm\", \"i am\")\n",
    "    x = x.replace(\"'re\", \" are\")\n",
    "    x = x.replace(\"he's\", \"he is\")\n",
    "    x = x.replace(\"she's\", \"she is\")\n",
    "    x = x.replace(\"'s\", \" own\")\n",
    "    x = x.replace(\"%\", \" percent \")\n",
    "    x = x.replace(\"'ll\", \" will\")\n",
    "    \n",
    "    # Tokenizing text\n",
    "    words = x.split(\" \")    \n",
    "    # Removing stopwords\n",
    "    words = [word for word in words if word not in stops]\n",
    "    # Lemmatizing words,i.e , replace word with corresponding root word.\n",
    "    words = [lemmatizer.lemmatize(word) for word in words]\n",
    "    # Words containing only alphabets\n",
    "    words = [word for word in words if word.isalpha()]\n",
    "    # Joining the words back\n",
    "    x = (\" \").join(words)\n",
    "    \n",
    "    return x"
   ]
  },
  {
   "cell_type": "code",
   "execution_count": 4,
   "metadata": {
    "colab": {
     "base_uri": "https://localhost:8080/",
     "height": 195
    },
    "colab_type": "code",
    "id": "0pjw7eu8V9l7",
    "outputId": "e52d8f13-0cf4-41c7-ba9b-f42d13fece4f"
   },
   "outputs": [
    {
     "data": {
      "text/html": [
       "<div>\n",
       "<style scoped>\n",
       "    .dataframe tbody tr th:only-of-type {\n",
       "        vertical-align: middle;\n",
       "    }\n",
       "\n",
       "    .dataframe tbody tr th {\n",
       "        vertical-align: top;\n",
       "    }\n",
       "\n",
       "    .dataframe thead th {\n",
       "        text-align: right;\n",
       "    }\n",
       "</style>\n",
       "<table border=\"1\" class=\"dataframe\">\n",
       "  <thead>\n",
       "    <tr style=\"text-align: right;\">\n",
       "      <th></th>\n",
       "      <th>title</th>\n",
       "      <th>body</th>\n",
       "      <th>ticket_type</th>\n",
       "      <th>category</th>\n",
       "      <th>sub_category1</th>\n",
       "      <th>sub_category2</th>\n",
       "      <th>business_service</th>\n",
       "      <th>urgency</th>\n",
       "      <th>impact</th>\n",
       "    </tr>\n",
       "  </thead>\n",
       "  <tbody>\n",
       "    <tr>\n",
       "      <th>0</th>\n",
       "      <td>NaN</td>\n",
       "      <td>hi since recruiter lead permission approve req...</td>\n",
       "      <td>1</td>\n",
       "      <td>4</td>\n",
       "      <td>2</td>\n",
       "      <td>21</td>\n",
       "      <td>71</td>\n",
       "      <td>3</td>\n",
       "      <td>4</td>\n",
       "    </tr>\n",
       "    <tr>\n",
       "      <th>1</th>\n",
       "      <td>connection with icon</td>\n",
       "      <td>icon dear please setup icon per icon engineer ...</td>\n",
       "      <td>1</td>\n",
       "      <td>6</td>\n",
       "      <td>22</td>\n",
       "      <td>7</td>\n",
       "      <td>26</td>\n",
       "      <td>3</td>\n",
       "      <td>4</td>\n",
       "    </tr>\n",
       "    <tr>\n",
       "      <th>2</th>\n",
       "      <td>work experience user</td>\n",
       "      <td>work experience user hi work experience studen...</td>\n",
       "      <td>1</td>\n",
       "      <td>5</td>\n",
       "      <td>13</td>\n",
       "      <td>7</td>\n",
       "      <td>32</td>\n",
       "      <td>3</td>\n",
       "      <td>4</td>\n",
       "    </tr>\n",
       "    <tr>\n",
       "      <th>3</th>\n",
       "      <td>requesting for meeting</td>\n",
       "      <td>requesting meeting hi please help follow equip...</td>\n",
       "      <td>1</td>\n",
       "      <td>5</td>\n",
       "      <td>13</td>\n",
       "      <td>7</td>\n",
       "      <td>32</td>\n",
       "      <td>3</td>\n",
       "      <td>4</td>\n",
       "    </tr>\n",
       "    <tr>\n",
       "      <th>4</th>\n",
       "      <td>reset passwords for external accounts</td>\n",
       "      <td>expire day hi ask help update password colleag...</td>\n",
       "      <td>1</td>\n",
       "      <td>4</td>\n",
       "      <td>2</td>\n",
       "      <td>76</td>\n",
       "      <td>4</td>\n",
       "      <td>3</td>\n",
       "      <td>4</td>\n",
       "    </tr>\n",
       "  </tbody>\n",
       "</table>\n",
       "</div>"
      ],
      "text/plain": [
       "                                   title  ... impact\n",
       "0                                    NaN  ...      4\n",
       "1                   connection with icon  ...      4\n",
       "2                   work experience user  ...      4\n",
       "3                 requesting for meeting  ...      4\n",
       "4  reset passwords for external accounts  ...      4\n",
       "\n",
       "[5 rows x 9 columns]"
      ]
     },
     "execution_count": 4,
     "metadata": {
      "tags": []
     },
     "output_type": "execute_result"
    }
   ],
   "source": [
    "df[\"body\"] = df[\"body\"].fillna(\"\").apply(txt_preprocess)\n",
    "df.head()"
   ]
  },
  {
   "cell_type": "code",
   "execution_count": 0,
   "metadata": {
    "colab": {},
    "colab_type": "code",
    "id": "SFLEGkcPWBj3"
   },
   "outputs": [],
   "source": [
    "texts = df[\"body\"]\n",
    "labels = pd.get_dummies(df[\"impact\"]).values"
   ]
  },
  {
   "cell_type": "markdown",
   "metadata": {
    "colab_type": "text",
    "id": "folUY8cUWcaU"
   },
   "source": [
    "<h2> 3. Preparing the data for training </h2>"
   ]
  },
  {
   "cell_type": "markdown",
   "metadata": {
    "colab_type": "text",
    "id": "oH5J9I-YWd4O"
   },
   "source": [
    "<h3> 3.1 Text to integer encodings </h3>"
   ]
  },
  {
   "cell_type": "code",
   "execution_count": 6,
   "metadata": {
    "colab": {
     "base_uri": "https://localhost:8080/",
     "height": 34
    },
    "colab_type": "code",
    "id": "kBjzNQzwWJVv",
    "outputId": "1b9e67a4-fc52-416f-cb7f-031a8db0fc73"
   },
   "outputs": [
    {
     "name": "stderr",
     "output_type": "stream",
     "text": [
      "Using TensorFlow backend.\n"
     ]
    }
   ],
   "source": [
    "from keras.preprocessing.text import Tokenizer\n",
    "from keras.preprocessing.sequence import pad_sequences"
   ]
  },
  {
   "cell_type": "code",
   "execution_count": 0,
   "metadata": {
    "colab": {},
    "colab_type": "code",
    "id": "ZYwB3aqxWil7"
   },
   "outputs": [],
   "source": [
    "training_samples = 44000\n",
    "validation_samples = df.shape[0] - training_samples\n",
    "maxlen = 50\n",
    "maxwords = 10000"
   ]
  },
  {
   "cell_type": "code",
   "execution_count": 8,
   "metadata": {
    "colab": {
     "base_uri": "https://localhost:8080/",
     "height": 151
    },
    "colab_type": "code",
    "id": "OEvvuEE9WlZr",
    "outputId": "f3f96791-09bb-4e48-e4c0-bde7382b39e8"
   },
   "outputs": [
    {
     "name": "stdout",
     "output_type": "stream",
     "text": [
      "Found 10486 unique tokens.\n"
     ]
    },
    {
     "data": {
      "text/plain": [
       "array([[   3,  196, 1781, ...,    0,    0,    0],\n",
       "       [ 923,   14,    1, ...,    0,    0,    0],\n",
       "       [  44,  605,   29, ...,    0,    0,    0],\n",
       "       ...,\n",
       "       [   8,   12,   18, ...,    0,    0,    0],\n",
       "       [   8,   12,   18, ...,    0,    0,    0],\n",
       "       [   6,    1,  132, ...,    0,    0,    0]], dtype=int32)"
      ]
     },
     "execution_count": 8,
     "metadata": {
      "tags": []
     },
     "output_type": "execute_result"
    }
   ],
   "source": [
    "tokenizer = Tokenizer(num_words=maxwords)\n",
    "tokenizer.fit_on_texts(texts)\n",
    "sequences = tokenizer.texts_to_sequences(texts)\n",
    "word_index = tokenizer.word_index\n",
    "\n",
    "print('Found %s unique tokens.' % len(word_index))\n",
    "data = pad_sequences(sequences, maxlen=maxlen, padding=\"post\")\n",
    "data"
   ]
  },
  {
   "cell_type": "markdown",
   "metadata": {
    "colab_type": "text",
    "id": "yxH_FgzjWqy0"
   },
   "source": [
    "<h3> 3.2 Preparing the embedding matrix </h3>"
   ]
  },
  {
   "cell_type": "code",
   "execution_count": 9,
   "metadata": {
    "colab": {
     "base_uri": "https://localhost:8080/",
     "height": 1000
    },
    "colab_type": "code",
    "id": "qb2-qEt9WnZH",
    "outputId": "73ff2a12-0ac4-4f1f-9d73-29f2fcc25855"
   },
   "outputs": [
    {
     "name": "stdout",
     "output_type": "stream",
     "text": [
      "timecard\n",
      "nonrecoverable\n",
      "intr\n",
      "req\n",
      "unapplied\n",
      "unlinking\n",
      "greyed\n",
      "fulfiller\n",
      "receipting\n",
      "locomote\n",
      "cooky\n",
      "msec\n",
      "updaters\n",
      "rcpt\n",
      "qty\n",
      "keyset\n",
      "retries\n",
      "receipted\n",
      "notifier\n",
      "reseat\n",
      "assignat\n",
      "async\n",
      "distr\n",
      "inconsistences\n",
      "convertor\n",
      "inters\n",
      "incase\n",
      "transactor\n",
      "resubmissions\n",
      "sharable\n",
      "promptitude\n",
      "rebill\n",
      "vised\n",
      "allocable\n",
      "reseating\n",
      "homeworker\n",
      "holydays\n",
      "certes\n",
      "celling\n",
      "instr\n",
      "automatize\n",
      "cosec\n",
      "fulfillers\n",
      "engager\n",
      "decapsulate\n",
      "capacitate\n",
      "rejecter\n",
      "mistyping\n",
      "limitative\n",
      "unclarified\n",
      "eely\n",
      "yabber\n",
      "recopy\n",
      "sayst\n",
      "subtask\n",
      "troubleshot\n",
      "scanter\n",
      "vatic\n",
      "connecter\n",
      "reeving\n",
      "itemization\n",
      "automatization\n",
      "recept\n",
      "earnable\n",
      "chestier\n",
      "requestors\n",
      "spited\n",
      "reshaper\n",
      "countersignature\n",
      "coachers\n",
      "staled\n",
      "architecure\n",
      "fetchers\n",
      "deselect\n",
      "plier\n",
      "takeing\n",
      "numerate\n",
      "dumbs\n",
      "etape\n",
      "mktg\n",
      "valuta\n",
      "existents\n",
      "builded\n",
      "sherd\n",
      "accessability\n",
      "mistype\n",
      "surger\n",
      "adverted\n",
      "belows\n",
      "closuring\n",
      "suppler\n",
      "doest\n",
      "bulleting\n",
      "fallowed\n",
      "handwrite\n",
      "transferal\n",
      "automatized\n",
      "resoled\n",
      "pragmatical\n",
      "internality\n",
      "incommode\n",
      "insipidity\n",
      "laten\n",
      "demagnetized\n",
      "trued\n",
      "inutile\n",
      "concatenate\n",
      "roomer\n",
      "snappiness\n",
      "unbind\n",
      "rebind\n",
      "formating\n",
      "curser\n",
      "signalize\n",
      "storying\n",
      "updatable\n",
      "aspirator\n",
      "importable\n",
      "Total absent words are 118 which is 1.13 % of total words\n"
     ]
    }
   ],
   "source": [
    "embedding_dir = \"glove.6B.100d.txt\"\n",
    "embedding_index = dict()  # Key: word, Value: embedding vector\n",
    "\n",
    "# Opening the file containing GLoVe embeddings\n",
    "f = open(embedding_dir, encoding='utf8')\n",
    "\n",
    "for line in f:\n",
    "    values = line.split()\n",
    "    word = values[0]\n",
    "    coefs = np.asarray(values[1:], dtype='float32')\n",
    "    embedding_index[word] = coefs\n",
    "f.close()\n",
    "\n",
    "word_index = tokenizer.word_index\n",
    "vocab_size = len(word_index) + 1\n",
    "embed_size = 100\n",
    "embedding_matrix = np.zeros((vocab_size, embed_size))\n",
    "absent_words = 0\n",
    "\n",
    "for word, i in word_index.items():\n",
    "    embedding_vector = embedding_index.get(word)\n",
    "    if embedding_vector is not None:\n",
    "        # Words not found would be all zeros\n",
    "        embedding_matrix[i] = embedding_vector\n",
    "    else:\n",
    "        print(word)\n",
    "        absent_words += 1\n",
    "        \n",
    "print('Total absent words are', absent_words, 'which is', \n",
    "      \"%0.2f\" % (absent_words * 100 / len(word_index)), '% of total words')"
   ]
  },
  {
   "cell_type": "markdown",
   "metadata": {},
   "source": [
    "<h2> 4. Train-Test split </h2>"
   ]
  },
  {
   "cell_type": "code",
   "execution_count": 0,
   "metadata": {
    "colab": {},
    "colab_type": "code",
    "id": "FpJ3LilHWufv"
   },
   "outputs": [],
   "source": [
    "np.random.seed(7)\n",
    "indices = np.arange(data.shape[0])\n",
    "np.random.shuffle(indices)\n",
    "\n",
    "data = data[indices]\n",
    "labels = labels[indices]\n",
    "\n",
    "x_train = data[:training_samples]\n",
    "y_train = labels[:training_samples]\n",
    "x_val = data[training_samples: training_samples + validation_samples]\n",
    "y_val = labels[training_samples: training_samples + validation_samples]"
   ]
  },
  {
   "cell_type": "code",
   "execution_count": 0,
   "metadata": {
    "colab": {},
    "colab_type": "code",
    "id": "VG5B4xJjW0c3"
   },
   "outputs": [],
   "source": [
    "# Sanity check\n",
    "assert(x_train.shape[0] == y_train.shape[0])\n",
    "assert(x_val.shape[0] == y_val.shape[0])"
   ]
  },
  {
   "cell_type": "markdown",
   "metadata": {
    "colab_type": "text",
    "id": "hVGiaPYRW6tT"
   },
   "source": [
    "<h2> 5. Performance visualization </h2>"
   ]
  },
  {
   "cell_type": "code",
   "execution_count": 0,
   "metadata": {
    "colab": {},
    "colab_type": "code",
    "id": "5uK_OT1GW3xj"
   },
   "outputs": [],
   "source": [
    "# Importing necessary libraries \n",
    "\n",
    "from sklearn.metrics import confusion_matrix\n",
    "import matplotlib.pyplot as plt\n",
    "import seaborn as sns\n",
    "\n",
    "# This function plots the confusion matrices given y_i, y_i_hat.\n",
    "def plot_confusion_matrix(test_y, predict_y,num_classes):\n",
    "    C = confusion_matrix(test_y, predict_y)\n",
    "    # C = 9,9 matrix, each cell (i,j) represents number of points of class i are predicted class j\n",
    "    \n",
    "    plt.figure(figsize=(7,3))\n",
    "    \n",
    "    labels = [i for i in range(num_classes)]\n",
    "    \n",
    "    # representing A in heatmap format\n",
    "    cmap=sns.light_palette(\"blue\")\n",
    "    sns.heatmap(C, annot=True, cmap=cmap, fmt=\".3f\", xticklabels=labels, yticklabels=labels)\n",
    "    plt.xlabel('Predicted Class')\n",
    "    plt.ylabel('Original Class')\n",
    "    plt.title(\"Confusion matrix\")\n",
    "    \n",
    "    plt.show()"
   ]
  },
  {
   "cell_type": "markdown",
   "metadata": {
    "colab_type": "text",
    "id": "0GpQKcsAXDAq"
   },
   "source": [
    "<h2> 6. Finding class weights </h2>"
   ]
  },
  {
   "cell_type": "code",
   "execution_count": 0,
   "metadata": {
    "colab": {},
    "colab_type": "code",
    "id": "u69ojhF9XAVr"
   },
   "outputs": [],
   "source": [
    "def flatten_one_hot(y_true):\n",
    "\n",
    "  labels = []\n",
    "\n",
    "  for one_hot_label in y_true:\n",
    "    labels.append(np.argmax(one_hot_label))\n",
    "\n",
    "  labels = np.array(labels)\n",
    "  return labels"
   ]
  },
  {
   "cell_type": "code",
   "execution_count": 14,
   "metadata": {
    "colab": {
     "base_uri": "https://localhost:8080/",
     "height": 50
    },
    "colab_type": "code",
    "id": "YbuxTZT3XGAr",
    "outputId": "36767fd3-0f4f-4ae7-e5fc-b278d9b22bae"
   },
   "outputs": [
    {
     "data": {
      "text/plain": [
       "array([ 20.37037037, 204.65116279,  43.56435644,   0.73670992,\n",
       "         0.28045127])"
      ]
     },
     "execution_count": 14,
     "metadata": {
      "tags": []
     },
     "output_type": "execute_result"
    }
   ],
   "source": [
    "from sklearn.utils import class_weight\n",
    "\n",
    "y_train_labels = flatten_one_hot(y_train)\n",
    "class_weight = class_weight.compute_class_weight('balanced', np.unique(y_train_labels), y_train_labels)\n",
    "class_weight"
   ]
  },
  {
   "cell_type": "code",
   "execution_count": 0,
   "metadata": {
    "colab": {},
    "colab_type": "code",
    "id": "nb7m6ZU7XJQb"
   },
   "outputs": [],
   "source": [
    "def plot_metrics(hist, num_epochs):\n",
    "  \n",
    "  acc = hist.history[\"categorical_accuracy\"]\n",
    "  val_acc = hist.history[\"val_categorical_accuracy\"]\n",
    "\n",
    "  loss = hist.history[\"loss\"]\n",
    "  val_loss = hist.history[\"val_loss\"]\n",
    "  \n",
    "  epochs = range(num_epochs)\n",
    "  \n",
    "  plt.figure(figsize=(10,7))\n",
    "  \n",
    "  plt.subplot(1,2,1)\n",
    "  plt.plot(epochs, acc, 'b', label=\"Accuracy\")\n",
    "  plt.plot(epochs, val_acc, 'r', label=\"Validation Accuracy\")\n",
    "  plt.grid()\n",
    "  plt.legend()\n",
    "  \n",
    "  plt.subplot(1,2,2)\n",
    "  plt.plot(epochs, loss, 'b', label=\"Loss\")\n",
    "  plt.plot(epochs, val_loss, 'r', label=\"Validation Loss\")\n",
    "  plt.grid()\n",
    "  plt.legend()  \n",
    "  \n",
    "  plt.show()"
   ]
  },
  {
   "cell_type": "markdown",
   "metadata": {
    "colab_type": "text",
    "id": "NAUReSfbXSst"
   },
   "source": [
    "<h2> 6. Training models </h2>"
   ]
  },
  {
   "cell_type": "markdown",
   "metadata": {
    "colab_type": "text",
    "id": "Yy-1RCBwXYOa"
   },
   "source": [
    "<h3> 6.1 Using LSTM</h3>"
   ]
  },
  {
   "cell_type": "code",
   "execution_count": 0,
   "metadata": {
    "colab": {},
    "colab_type": "code",
    "id": "CwFgAKwAXPPj"
   },
   "outputs": [],
   "source": [
    "from keras.models import Sequential\n",
    "from keras.layers import Embedding, CuDNNLSTM, Dense, SpatialDropout1D, GlobalMaxPooling1D, Dropout"
   ]
  },
  {
   "cell_type": "code",
   "execution_count": 20,
   "metadata": {
    "colab": {
     "base_uri": "https://localhost:8080/",
     "height": 370
    },
    "colab_type": "code",
    "id": "56hKNpjFXcj3",
    "outputId": "a0f506f7-a137-42d3-8bb8-39fd93349a06"
   },
   "outputs": [
    {
     "name": "stdout",
     "output_type": "stream",
     "text": [
      "_________________________________________________________________\n",
      "Layer (type)                 Output Shape              Param #   \n",
      "=================================================================\n",
      "embedding_2 (Embedding)      (None, 50, 100)           1048700   \n",
      "_________________________________________________________________\n",
      "spatial_dropout1d_2 (Spatial (None, 50, 100)           0         \n",
      "_________________________________________________________________\n",
      "cu_dnnlstm_2 (CuDNNLSTM)     (None, 50, 64)            42496     \n",
      "_________________________________________________________________\n",
      "global_max_pooling1d_2 (Glob (None, 64)                0         \n",
      "_________________________________________________________________\n",
      "dense_2 (Dense)              (None, 128)               8320      \n",
      "_________________________________________________________________\n",
      "dropout_2 (Dropout)          (None, 128)               0         \n",
      "_________________________________________________________________\n",
      "Output (Dense)               (None, 5)                 645       \n",
      "=================================================================\n",
      "Total params: 1,100,161\n",
      "Trainable params: 1,100,161\n",
      "Non-trainable params: 0\n",
      "_________________________________________________________________\n"
     ]
    }
   ],
   "source": [
    "e = Embedding(vocab_size, embed_size, weights=[embedding_matrix], input_length=50, trainable=True)\n",
    "num_classes = 5\n",
    "\n",
    "model1 = Sequential()\n",
    "model1.add(e)\n",
    "model1.add(SpatialDropout1D(0.2))\n",
    "model1.add(CuDNNLSTM(64, return_sequences=True))\n",
    "model1.add(GlobalMaxPooling1D())\n",
    "model1.add(Dense(128, activation=\"relu\"))\n",
    "model1.add(Dropout(0.25))\n",
    "model1.add(Dense(num_classes, activation=\"softmax\", name=\"Output\"))\n",
    "\n",
    "model1.summary()"
   ]
  },
  {
   "cell_type": "code",
   "execution_count": 0,
   "metadata": {
    "colab": {},
    "colab_type": "code",
    "id": "17cAs5DXXezD"
   },
   "outputs": [],
   "source": [
    "from keras.optimizers import Adam\n",
    "\n",
    "model1.compile(optimizer=Adam(lr=1e-4),\n",
    "             loss=\"categorical_crossentropy\",\n",
    "             metrics=[\"categorical_accuracy\"])"
   ]
  },
  {
   "cell_type": "code",
   "execution_count": 23,
   "metadata": {
    "colab": {
     "base_uri": "https://localhost:8080/",
     "height": 1000
    },
    "colab_type": "code",
    "id": "Ga3gvQTCXiuz",
    "outputId": "b2943c84-5d3a-47a2-8cbc-aed6baaa2afd"
   },
   "outputs": [
    {
     "name": "stdout",
     "output_type": "stream",
     "text": [
      "Train on 44000 samples, validate on 4549 samples\n",
      "Epoch 1/15\n",
      "44000/44000 [==============================] - 3s 61us/step - loss: 0.0979 - categorical_accuracy: 0.9728 - val_loss: 0.1084 - val_categorical_accuracy: 0.9694\n",
      "\n",
      "Epoch 00001: val_loss improved from inf to 0.10839, saving model to baseline.h5\n",
      "Epoch 2/15\n",
      "44000/44000 [==============================] - 3s 60us/step - loss: 0.0968 - categorical_accuracy: 0.9732 - val_loss: 0.0981 - val_categorical_accuracy: 0.9719\n",
      "\n",
      "Epoch 00002: val_loss improved from 0.10839 to 0.09807, saving model to baseline.h5\n",
      "Epoch 3/15\n",
      "44000/44000 [==============================] - 3s 58us/step - loss: 0.0940 - categorical_accuracy: 0.9738 - val_loss: 0.0960 - val_categorical_accuracy: 0.9725\n",
      "\n",
      "Epoch 00003: val_loss improved from 0.09807 to 0.09602, saving model to baseline.h5\n",
      "Epoch 4/15\n",
      "44000/44000 [==============================] - 3s 59us/step - loss: 0.0910 - categorical_accuracy: 0.9751 - val_loss: 0.0943 - val_categorical_accuracy: 0.9732\n",
      "\n",
      "Epoch 00004: val_loss improved from 0.09602 to 0.09427, saving model to baseline.h5\n",
      "Epoch 5/15\n",
      "44000/44000 [==============================] - 3s 59us/step - loss: 0.0880 - categorical_accuracy: 0.9761 - val_loss: 0.0940 - val_categorical_accuracy: 0.9725\n",
      "\n",
      "Epoch 00005: val_loss improved from 0.09427 to 0.09405, saving model to baseline.h5\n",
      "Epoch 6/15\n",
      "44000/44000 [==============================] - 3s 59us/step - loss: 0.0851 - categorical_accuracy: 0.9761 - val_loss: 0.1039 - val_categorical_accuracy: 0.9723\n",
      "\n",
      "Epoch 00006: val_loss did not improve from 0.09405\n",
      "Epoch 7/15\n",
      "44000/44000 [==============================] - 3s 59us/step - loss: 0.0843 - categorical_accuracy: 0.9764 - val_loss: 0.0943 - val_categorical_accuracy: 0.9738\n",
      "\n",
      "Epoch 00007: val_loss did not improve from 0.09405\n",
      "Epoch 8/15\n",
      "44000/44000 [==============================] - 3s 59us/step - loss: 0.0826 - categorical_accuracy: 0.9773 - val_loss: 0.0902 - val_categorical_accuracy: 0.9741\n",
      "\n",
      "Epoch 00008: val_loss improved from 0.09405 to 0.09022, saving model to baseline.h5\n",
      "Epoch 9/15\n",
      "44000/44000 [==============================] - 3s 59us/step - loss: 0.0804 - categorical_accuracy: 0.9771 - val_loss: 0.0970 - val_categorical_accuracy: 0.9730\n",
      "\n",
      "Epoch 00009: val_loss did not improve from 0.09022\n",
      "Epoch 10/15\n",
      "44000/44000 [==============================] - 3s 59us/step - loss: 0.0785 - categorical_accuracy: 0.9784 - val_loss: 0.0896 - val_categorical_accuracy: 0.9752\n",
      "\n",
      "Epoch 00010: val_loss improved from 0.09022 to 0.08957, saving model to baseline.h5\n",
      "Epoch 11/15\n",
      "44000/44000 [==============================] - 3s 60us/step - loss: 0.0771 - categorical_accuracy: 0.9787 - val_loss: 0.0895 - val_categorical_accuracy: 0.9754\n",
      "\n",
      "Epoch 00011: val_loss improved from 0.08957 to 0.08950, saving model to baseline.h5\n",
      "Epoch 12/15\n",
      "44000/44000 [==============================] - 3s 59us/step - loss: 0.0764 - categorical_accuracy: 0.9789 - val_loss: 0.0911 - val_categorical_accuracy: 0.9749\n",
      "\n",
      "Epoch 00012: val_loss did not improve from 0.08950\n",
      "Epoch 13/15\n",
      "44000/44000 [==============================] - 3s 59us/step - loss: 0.0739 - categorical_accuracy: 0.9802 - val_loss: 0.0903 - val_categorical_accuracy: 0.9747\n",
      "\n",
      "Epoch 00013: val_loss did not improve from 0.08950\n",
      "Epoch 14/15\n",
      "44000/44000 [==============================] - 3s 59us/step - loss: 0.0719 - categorical_accuracy: 0.9805 - val_loss: 0.0890 - val_categorical_accuracy: 0.9752\n",
      "\n",
      "Epoch 00014: val_loss improved from 0.08950 to 0.08897, saving model to baseline.h5\n",
      "Epoch 15/15\n",
      "44000/44000 [==============================] - 3s 58us/step - loss: 0.0721 - categorical_accuracy: 0.9804 - val_loss: 0.0926 - val_categorical_accuracy: 0.9752\n",
      "\n",
      "Epoch 00015: val_loss did not improve from 0.08897\n"
     ]
    }
   ],
   "source": [
    "from keras.callbacks import ModelCheckpoint, EarlyStopping, ReduceLROnPlateau\n",
    "\n",
    "filename = 'baseline.h5'\n",
    "num_epochs = 15\n",
    "Batch_size = 128\n",
    "\n",
    "es = EarlyStopping(monitor='val_loss', mode='min', baseline=0.2, verbose=1, patience=15)\n",
    "checkpoint = ModelCheckpoint(filename, monitor='val_loss', verbose=1, save_best_only=True, mode='min')\n",
    "reduce_lr = ReduceLROnPlateau(monitor='val_loss',factor=0.5, patience=5)\n",
    "\n",
    "# fit model\n",
    "hist1 = model1.fit(x_train, y_train, epochs=num_epochs, batch_size=Batch_size, validation_data=(x_val,y_val), \n",
    "                 callbacks=[es,checkpoint,reduce_lr], verbose=1)"
   ]
  },
  {
   "cell_type": "code",
   "execution_count": 27,
   "metadata": {
    "colab": {
     "base_uri": "https://localhost:8080/",
     "height": 432
    },
    "colab_type": "code",
    "id": "Js1holEYZD_L",
    "outputId": "62bd999c-303c-4101-e8aa-b7e3562b7d42"
   },
   "outputs": [
    {
     "data": {
      "image/png": "[encoded data removed]",
      "text/plain": [
       "<Figure size 720x504 with 2 Axes>"
      ]
     },
     "metadata": {
      "tags": []
     },
     "output_type": "display_data"
    }
   ],
   "source": [
    "plot_metrics(hist1, num_epochs)"
   ]
  },
  {
   "cell_type": "code",
   "execution_count": 26,
   "metadata": {
    "colab": {
     "base_uri": "https://localhost:8080/",
     "height": 241
    },
    "colab_type": "code",
    "id": "cWAY4QGiYUm3",
    "outputId": "1c1875fe-0dfa-417c-dc6f-c5d97cf33ad2"
   },
   "outputs": [
    {
     "data": {
      "image/png": "[encoded data removed]",
      "text/plain": [
       "<Figure size 504x216 with 2 Axes>"
      ]
     },
     "metadata": {
      "tags": []
     },
     "output_type": "display_data"
    }
   ],
   "source": [
    "y_pred = model1.predict_classes(x_val)\n",
    "y_test = flatten_one_hot(y_val)\n",
    "\n",
    "plot_confusion_matrix(y_test, y_pred, 5)"
   ]
  }
 ],
 "metadata": {
  "accelerator": "GPU",
  "colab": {
   "name": "predict_impact.ipynb",
   "provenance": [],
   "version": "0.3.2"
  },
  "kernelspec": {
   "display_name": "Python 3",
   "language": "python",
   "name": "python3"
  },
  "language_info": {
   "codemirror_mode": {
    "name": "ipython",
    "version": 3
   },
   "file_extension": ".py",
   "mimetype": "text/x-python",
   "name": "python",
   "nbconvert_exporter": "python",
   "pygments_lexer": "ipython3",
   "version": "3.6.5"
  }
 },
 "nbformat": 4,
 "nbformat_minor": 1
}
